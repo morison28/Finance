{
 "cells": [
  {
   "cell_type": "code",
   "execution_count": 3,
   "metadata": {},
   "outputs": [],
   "source": [
    "# 確率分布をまとめる\n",
    "\n",
    "# 入門統計学の第6章の内容が中心"
   ]
  },
  {
   "cell_type": "markdown",
   "metadata": {},
   "source": [
    "離散型\n",
    "- a\n",
    "- b\n",
    "- c\n",
    "\n",
    "連続型\n",
    "- d\n",
    "- e\n",
    "- f"
   ]
  },
  {
   "cell_type": "markdown",
   "metadata": {},
   "source": [
    "## **離散型の確率分布**"
   ]
  },
  {
   "cell_type": "code",
   "execution_count": null,
   "metadata": {},
   "outputs": [],
   "source": []
  },
  {
   "cell_type": "code",
   "execution_count": null,
   "metadata": {},
   "outputs": [],
   "source": []
  },
  {
   "cell_type": "markdown",
   "metadata": {},
   "source": [
    "## **連続型の確率分布**"
   ]
  },
  {
   "cell_type": "markdown",
   "metadata": {},
   "source": [
    "### **正規分布**"
   ]
  },
  {
   "cell_type": "markdown",
   "metadata": {},
   "source": [
    "密度関数\n",
    "\n",
    "$$\n",
    "\n",
    "$$\n",
    "\n",
    "期待値は，分散は"
   ]
  },
  {
   "cell_type": "markdown",
   "metadata": {},
   "source": [
    "### **指数分布**"
   ]
  },
  {
   "cell_type": "markdown",
   "metadata": {},
   "source": [
    "確率密度関数\n",
    "\n",
    "$$\n",
    "f(x) = \\lambda e^{\\lambda x} \\ \\ \\ (x \\ge 0), \\ \\ \\ \\ \\ 0 \\ \\ \\ (x < 0)\n",
    "$$\n",
    "\n",
    "累積分布関数\n",
    "\n",
    "$$\n",
    "F(x) = P(X \\le x) = 1 - e^{-\\lambda x} \\ \\ \\ (x \\ge0), \\ \\ \\ \\ 0 \\ \\ \\ (x < 0) \n",
    "$$\n",
    "\n",
    "期待値は$E(X) = 1/\\lambda$，分散は$V(X)=1/\\lambda^{2}$\n",
    "\n",
    "---\n",
    "\n"
   ]
  },
  {
   "cell_type": "markdown",
   "metadata": {},
   "source": [
    "### **ガンマ分布**"
   ]
  },
  {
   "cell_type": "markdown",
   "metadata": {},
   "source": [
    "指数分布の一般化であり，確率密度関数は，\n",
    "\n",
    "$$\n",
    "f(x) = \\frac{\\lambda^{\\alpha}}{\\Gamma(\\alpha)}x^{\\alpha-1}e^{-\\lambda x} \\ \\ \\ (x \\ge 0), \\ \\ \\ \\ \\ 0 \\ \\ \\ (x < 0)\n",
    "$$\n",
    "\n",
    "$\\alpha=1$のとき，指数分布と一致する．\n",
    "\n",
    "また，\n",
    "\n",
    "$$\n",
    "\\Gamma(\\alpha) = \\int^{\\infty}_{0} x^{\\alpha-1} e^{-x} dx\n",
    "$$\n",
    "\n",
    "であり，これは，積分して1になる(規格化)するために使用するガンマ関数である．n!の一般化であって，$\\alpha$が正整数ならば$\\Gamma(\\alpha)$は$(\\alpha-1)!$に一致する．たとえば，$\\Gamma(1)=1, \\Gamma(4)=6$．また，$\\Gamma(1/2)=\\pi$        \n",
    "\n",
    "ガンマ分布に従う確率変数は決して負にならない．正(または0)の量であって，大きい値も十分可能性があるものの中には，ガンマ分布に従うものがある．たとえば，体重の分布はガンマ分布に従うといわれる．また，最近｢エイズの潜伏期間｣という例も報告されている．    \n",
    "\n",
    "確率変数がガンマ分布に従っているならば，期待値，分散は，\n",
    "\n",
    "$$\n",
    "E(X) = \\alpha/ \\lambda\\\\\n",
    "V(X) = \\alpha/ \\lambda^{2}\n",
    "$$\n",
    "\n",
    "パラメータ$\\alpha, \\lambda$のガンマ分布はGa($\\alpha, \\lambda$)と表す．統計学の様々な分野でガンマ分布が出現する．ベイズ統計においても有用性が高い．\n",
    "\n",
    "\n",
    "---\n",
    "\n",
    "具体例) システムダウンまでの待ち時間    \n",
    "\n",
    "あるシステムは5回の障害があると，全面的にダウンする．1回の故障が指数分布$E_{x}(0.1)$に従う間隔で起こるとするならば，ダウンまでの時間はGa(5, 0.1)に従う．    \n",
    "\n",
    "また，確率変数XがN(0,1)に従うとき$X^{2}$はガンマ分布$Ga(1/2, 1/2)$に従う．また，ガンマ分布$Ga(1/2, 1/2)$は，自由度nの**$\\ki$(カイ2乗)分布**と呼ばれる．"
   ]
  },
  {
   "cell_type": "markdown",
   "metadata": {},
   "source": [
    "### **ベータ分布と一様分布**"
   ]
  },
  {
   "cell_type": "markdown",
   "metadata": {},
   "source": [
    "**ベータ分布**は(0,1)上の確率分布で，確率密度関数\n",
    "\n",
    "$$\n",
    "f(x) = \\frac{x^{\\alpha-1}(1-x)^{-\\beta-1}}{B(\\alpha, \\beta)}\n",
    "$$\n",
    "\n",
    "で定義される．    \n",
    "\n",
    "$X \\sim Be(\\alpha, \\beta)$ならば，Xの期待値，分散は\n",
    "\n",
    "$$\\begin{align}\n",
    "E(X) &= \\frac{\\alpha}{\\alpha+\\beta}\\\\\n",
    "V(X) &= \\frac{\\alpha\\beta}{(\\alpha + \\beta)^{2}} (\\alpha + \\beta + 1)\n",
    "\\end{align}$$\n",
    "\n",
    "となる．ベータ分布の現象例は少ないが，ベイズ統計学での役割が大きい．    \n",
    "\n",
    "$B(\\alpha, \\beta)$は積分して1にするための規格化定数であって，積分\n",
    "\n",
    "$$\n",
    "B(\\alpha, \\beta) = \\int^{1}_{0} x^{\\alpha-1} (1-x)^{\\beta-1} dx \\ \\ \\ (\\alpha > 0, \\beta > 0)\n",
    "$$\n",
    "\n",
    "で定義される．これをベータ関数と呼ぶ．ベータ関数とガンマ関数は\n",
    "\n",
    "$$\n",
    "\\Gamma(\\alpha, \\beta) = \\frac{\\Gamma(\\alpha)\\Gamma(\\beta)}{\\Gamma(\\alpha + \\beta)}\n",
    "$$\n",
    "\n",
    "の関係がある．    \n",
    "\n",
    "ベータ関数の特徴は$\\alpha, \\beta$の値によって様々な形をとることである．確率分布のおおよその形が分かっていて，その形に関数を当てはめたい時この関数を利用される．$\\alpha = \\beta = 1$の時は，一様分布f(x) = 1とり，期待値1/2, 分散1/12となる．\n",
    "\n",
    "\n",
    "---\n"
   ]
  },
  {
   "cell_type": "markdown",
   "metadata": {},
   "source": [
    "### **コーシー分布**"
   ]
  },
  {
   "cell_type": "code",
   "execution_count": null,
   "metadata": {},
   "outputs": [],
   "source": []
  },
  {
   "cell_type": "markdown",
   "metadata": {},
   "source": [
    "### **対数正規分布**"
   ]
  },
  {
   "cell_type": "code",
   "execution_count": null,
   "metadata": {},
   "outputs": [],
   "source": []
  },
  {
   "cell_type": "markdown",
   "metadata": {},
   "source": [
    "### **パレート分布**"
   ]
  },
  {
   "cell_type": "code",
   "execution_count": null,
   "metadata": {},
   "outputs": [],
   "source": []
  },
  {
   "cell_type": "markdown",
   "metadata": {},
   "source": [
    "### **ワイブル分布**"
   ]
  },
  {
   "cell_type": "code",
   "execution_count": null,
   "metadata": {},
   "outputs": [],
   "source": []
  }
 ],
 "metadata": {
  "kernelspec": {
   "display_name": "Python 3",
   "language": "python",
   "name": "python3"
  },
  "language_info": {
   "codemirror_mode": {
    "name": "ipython",
    "version": 3
   },
   "file_extension": ".py",
   "mimetype": "text/x-python",
   "name": "python",
   "nbconvert_exporter": "python",
   "pygments_lexer": "ipython3",
   "version": "3.8.5"
  }
 },
 "nbformat": 4,
 "nbformat_minor": 4
}
