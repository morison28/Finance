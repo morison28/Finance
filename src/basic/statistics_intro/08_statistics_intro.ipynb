{
 "cells": [
  {
   "cell_type": "code",
   "execution_count": null,
   "metadata": {},
   "outputs": [],
   "source": []
  },
  {
   "cell_type": "code",
   "execution_count": 1,
   "metadata": {},
   "outputs": [],
   "source": [
    "import matplotlib.pyplot as plt\n",
    "import numpy as np\n",
    "from scipy.special import comb\n",
    "\n",
    "%matplotlib inline"
   ]
  },
  {
   "cell_type": "code",
   "execution_count": 2,
   "metadata": {},
   "outputs": [],
   "source": [
    "n,p = 10, 0.5\n",
    "s = np.random.binomial(n, p, 1)"
   ]
  },
  {
   "cell_type": "code",
   "execution_count": 3,
   "metadata": {},
   "outputs": [
    {
     "data": {
      "text/plain": [
       "array([6])"
      ]
     },
     "execution_count": 3,
     "metadata": {},
     "output_type": "execute_result"
    }
   ],
   "source": [
    "s"
   ]
  },
  {
   "cell_type": "markdown",
   "metadata": {},
   "source": [
    "## 8.1大数の法則"
   ]
  },
  {
   "cell_type": "markdown",
   "metadata": {},
   "source": [
    "正しいコインを10回投げる．表を成功として，i回目のコイン投げで表が出たら1，裏が出たら0を取る確率変数$x_{i}$を考える．10回のコイン投げで，表の出た回数(頻度)は，\n",
    "\n",
    "$$\n",
    "r = x_{1} + \\cdot \\cdot \\cdot + x_{10}\n",
    "$$\n",
    "\n",
    "である．表が出た回数の割合$\\hat{p}=r/10$は**観測された成功率**であって，$\\hat{p} = 0.1, 0.2, \\cdot \\cdot \\cdot$となる．一般に，nをコイン投げの回数とするとき，r/nは**相対頻度**である．rは確率変数で，n=10, p=0.5の二項分布Bi(10, 0.5)，すなわち，\n",
    "\n",
    "$$\n",
    "f_{10}(x) = {}_{10} C_{x} (1/2)^{10}, \\ \\ \\ x=0,1,2,3,\\cdot \\cdot \\cdot,10\n",
    "$$\n",
    "\n",
    "に，従い，その期待値，分散は，\n",
    "\n",
    "$$\n",
    "E(r) = np = 5, \\ \\ \\ Var(r) = np(1-p) = 2.5\n",
    "$$\n",
    "\n",
    "だから，割合r/nの期待値，分散は，\n",
    "\n",
    "$$\n",
    "E(r/n) = p = 0.5, \\ \\ \\ Var(r/n) = p(1-p)/n = 0.025 \n",
    "$$\n",
    "\n",
    "である．ここで，p=0.5の**真の成功率**と一致することが確認できる．成功の割合がx/10となる確率は$f_{10}(x)$なので，関数を定義して実際に確認してみると..."
   ]
  },
  {
   "cell_type": "code",
   "execution_count": 8,
   "metadata": {},
   "outputs": [
    {
     "name": "stdout",
     "output_type": "stream",
     "text": [
      "0.0 = 0.0009765625\n",
      "0.1 = 0.009765625\n",
      "0.2 = 0.0439453125\n",
      "0.3 = 0.1171875\n",
      "0.4 = 0.205078125\n",
      "0.5 = 0.24609375\n",
      "0.6 = 0.205078125\n",
      "0.7 = 0.1171875\n",
      "0.8 = 0.0439453125\n",
      "0.9 = 0.009765625\n",
      "1.0 = 0.0009765625\n"
     ]
    },
    {
     "data": {
      "image/png": "[encoded data removed]",
      "text/plain": [
       "<Figure size 432x288 with 1 Axes>"
      ]
     },
     "metadata": {
      "needs_background": "light"
     },
     "output_type": "display_data"
    }
   ],
   "source": [
    "def bi(n,p,x):\n",
    "    return comb(n,x) * p ** n\n",
    "\n",
    "n = 10\n",
    "p = 0.5\n",
    "bi_lst = [bi(n,p,i) for i in range(11)]\n",
    "for i in range(11):\n",
    "    print(i/10, '=' ,bi_lst[i])\n",
    "    \n",
    "fig = plt.figure()\n",
    "\n",
    "ax = fig.add_subplot(111)\n",
    "ax.plot(bi_lst)\n",
    "\n",
    "plt.show()"
   ]
  },
  {
   "cell_type": "markdown",
   "metadata": {},
   "source": [
    "期待値である真の成功率0.5及びその周辺の発生確率が高いが，表の割合が0.2以下，及び0.8以上である確率も11.0%近くあることがわかる．ここで，コイン投げの回数をn=10から増やしていって，r/nの期待値E(r/n)=p，及びその周辺が発生する確率がどの様になっていくかを調べてみる．"
   ]
  },
  {
   "cell_type": "code",
   "execution_count": 5,
   "metadata": {},
   "outputs": [
    {
     "name": "stdout",
     "output_type": "stream",
     "text": [
      "P(0.4 <= r/10 <= 0.6) = 0.65625\n",
      "P(0.4 <= r/20 <= 0.6) = 0.7368240356445312\n",
      "P(0.4 <= r/30 <= 0.6) = 0.7995115779340267\n",
      "P(0.4 <= r/40 <= 0.6) = 0.8461400558371679\n",
      "P(0.4 <= r/50 <= 0.6) = 0.8810795474405637\n",
      "P(0.4 <= r/100 <= 0.6) = 0.9647997997822951\n",
      "P(0.4 <= r/1000 <= 0.6) = 0.9999999998202966\n"
     ]
    }
   ],
   "source": [
    "ns = [10,20,30,40,50,100,1000]\n",
    "p = 0.5\n",
    "for n in ns:\n",
    "    bi_lst = [bi(n,p,i) for i in range(n+1)]\n",
    "    l = int(len(bi_lst)*0.4)\n",
    "    r = int(len(bi_lst)*0.6)+1\n",
    "    prob = sum(bi_lst[l:r])\n",
    "    print(f'P(0.4 <= r/{n} <= 0.6) = {prob}')"
   ]
  },
  {
   "cell_type": "markdown",
   "metadata": {},
   "source": [
    "となる．n=100の段階で，表の観測された成功率は0.4から0.6までの確率は96%を越えほとんどの値が真のp=0.5に集中する．    \n",
    "一般に，$\\varepsilon$がどの様に小さい(正の)値であっても，\n",
    "\n",
    "$$\n",
    "P(|r/n - p| \\le \\varepsilon) \\rightarrow 1 \\ \\ \\ (n \\rightarrow \\infty) \n",
    "$$\n",
    "\n",
    "となることが保証されており，これが**大数の法則 (low og large numbers)**であり，**大標本では，観察された標本平均を母集団の真の平均(母平均)とみなしてよい**という常識を，数学的に厳密に証明できた．    \n",
    "\n",
    "二項分布からもう少し一般化すると，$\\varepsilon$を任意の正の定数，基の確率分布の平均を$\\mu$，その分布からn個取られた観測値の平均を$\\bar{X_{n}}$としたとき，\n",
    "\n",
    "$$\n",
    "P(|\\bar{X_{n}} - \\mu| \\le \\varepsilon) \\rightarrow 1 \\ \\ \\ (n \\rightarrow \\infty) \n",
    "$$\n",
    "\n",
    "となると言い換えられる．直感的な理解としては，｢標本観測値の平均は，標本を大きくすると，真の平均(統計的には母平均)といくらでも近い値を取ることが極めて確かだ｣ということである．このように，大数の法則はもとの確率分布に関わらず成立するが，その証明には**チェビシェフの不等式**を用いる．    \n",
    "\n",
    "一般に，確率変数$X_{1}, X_{2}, \\cdot \\cdot \\cdot, X_{n}$は独立で，同一確率分布に従うとする．各$X_{i}$の期待値，分散は同一だから$E(X_{i}) = \\mu$, $Var(X_{i})$とする．$\\bar{X} = (X_{1} + X_{2} + \\cdot \\cdot \\cdot + X_{n})/n$とすると，\n",
    "\n",
    "$$\n",
    "E(\\bar{X}) = \\mu, \\ \\ \\ Var(\\bar{X}) = \\sigma^{2}/n\n",
    "$$\n",
    "\n",
    "これから，$\\mu$にきわめて近い領域に$\\bar{X}$が入る確率$P(|\\bar{X} - \\mu| \\le \\varepsilon)$がnが大きくなるとともに1に近づくことを示せば良い．それはこの領域に入らない確率が0収束することと同値である．$\\bar{X}$を$\\bar{X_{n}}$として，$\\bar{X_{n}}$にチェブシェフの不等式\n",
    "\n",
    "$$\n",
    "P(|\\bar{X} - \\mu| \\ge k\\sigma_{n}) \\le 1/k^{2}\n",
    "$$\n",
    "\n",
    "を適応する．ここで$\\sigma^{2}_{n} = Var(\\bar{X_{n}}) = \\sigma^{2}/n$であることに注意する．$k\\sigma_{n} = \\varepsilon$とおくと，$k = \\varepsilon / \\sigma_{n} = \\sqrt{n}\\varepsilon/\\sigma$であって，これから，\n",
    "\n",
    "$$\n",
    "P(|\\bar{X} - \\mu| > \\varepsilon) \\le \\sigma^{2}/n\\varepsilon \\rightarrow 0 \\ \\ \\ (n \\rightarrow \\infty)\n",
    "$$\n",
    "\n",
    "となって，示された．なお，確率論では$X_{n}$は$\\mu$に**確率収束(converge in probability)**するという．\n",
    "\n"
   ]
  },
  {
   "cell_type": "markdown",
   "metadata": {},
   "source": [
    "**【補足】チェビシェフの不等式&emsp;(Chebyshev's inequality)**    \n",
    "\n",
    "テストの得点分布では，平均と分散しか分かっていない．そこで，次の問題を考える．    \n",
    "\n",
    "<例>    \n",
    "ある確率変数についてE(X) = 1, Var(X) = 1/3 であることしか分かっていない．これから$0 \\le X \\le 2$になる確率についてに何が言えるか．   \n",
    "\n",
    "この問題は，確率分布が分かっていないのに，確率の値に見当をつけよ，というものである．現実には，よくあることである．平均と分散から，確率の見当をつけるときある程度役に立つのが，チェビシェフの不等式である．\n",
    "　標準偏差は，確率変数の期待値からのばらつきを考えるときの尺度の単位として用いいられる．どのような確率変数Xもその期待値$\\mu = E(X)$の周辺に確率が集中しており，期待値から離れるに従い少なくなるが，その程度は分散$\\sigma^{2}=Var(X)$による．標準編$\\sigma=D(X)$を単位に取るとき，一般に以下の不等式が成立する．これをチェビシェフの不等式という．   \n",
    "　いかなる確率変数に対しても，\n",
    "\n",
    "$$\n",
    "P(|\\bar{X} - \\mu| > k\\sigma_{n}) \\le 1/k^{2}\n",
    "$$\n",
    "\n",
    "チェビシェフの不等式はいかなる確率変数に対しても成立するの意味で絶対的なものである．上の例では$\\mu=1, \\sigma=1/\\sqrt{3}$であることから，\n",
    "\n",
    "$$\n",
    "P(0 \\le X \\le 2) = P(|X - \\mu| \\le \\sqrt{3}\\sigma) \\ge 1 - (1/\\sqrt{3})^2 \\fallingdotseq 0.667\n",
    "$$\n",
    "\n",
    "となって，もとめる確率は2/3以上であることがわかる．\n",
    "\n",
    "もちろん，f(x)の形が具体的にわかっていれば，確率の値そのものが求まる．しかし，確率分布が分かっていることは，しばしばそうでないから，そこにチェビシェフの不等式の意味がある．"
   ]
  },
  {
   "cell_type": "code",
   "execution_count": null,
   "metadata": {},
   "outputs": [],
   "source": []
  },
  {
   "cell_type": "markdown",
   "metadata": {},
   "source": [
    "## 8.2 中心極限定理"
   ]
  },
  {
   "cell_type": "markdown",
   "metadata": {},
   "source": [
    "### **概要**"
   ]
  },
  {
   "cell_type": "markdown",
   "metadata": {},
   "source": [
    "ごく大まかに言えば，母集団分布がなんであっても，**和$X_{1}+\\cdot\\cdot\\cdot+X_{n}$の確率分布の形は，nが大きくなるときには，大略正規分布と考えて良い**ということである．母平均，母分散を$\\mu, \\sigma^{2}$とすると，母集団分布がなんであっても，標本の大きさnが大きくなるときは，大略，\n",
    "\n",
    "$$\n",
    "\\begin{align}\n",
    "    S_{n} &= X_{1} + X_{2} + \\cdot \\cdot \\cdot + X_{n} \\sim N(n\\mu, n\\sigma^{2}) \\\\\n",
    "    \\bar{X} &= (X_{1} + X_{2} + \\cdot \\cdot \\cdot + X_{n}) \\ / \\ n \\sim N(\\mu, \\sigma^{2}/n)\n",
    "\\end{align}\n",
    "$$\n",
    "\n",
    "と考えて良い．        \n",
    "とくに$\\bar{X}$に関しては集中を保証する大数の法則よりくわしい，正規分布の形をとりながら集中する($\\sigma^{2}/n \\rightarrow 0$)ことを示している．    \n",
    "\n",
    "中心極限定理を一応厳密に表すと，$n \\rightarrow \\infty$のとき，\n",
    "\n",
    "$$\n",
    "    P(a \\le (X_{1} + X_{2} + \\cdot \\cdot \\cdot + X_{n} - n\\mu) \\ / \\ \\sqrt{n}\\sigma \\le b) \n",
    "    \\rightarrow \n",
    "    \\int_a^b \\frac{1}{\\sqrt{2\\pi}} e^{- \\frac{x^{2}}{2}}\n",
    "$$\n",
    "\n",
    "が成り立つというわけである．いいかえればnが大きければ，\n",
    "\n",
    "$$\n",
    "    P(a \\le (X_{1} + X_{2} + \\cdot \\cdot \\cdot + X_{n} - n\\mu) \\ / \\ \\sqrt{n}\\sigma \\le b)\n",
    "    \\fallingdotseq\n",
    "    \\Phi(b) - \\Phi(a)\n",
    "$$\n",
    "\n",
    "ここで，$\\phi$は標準正規分布の累積分布関数であり，\n",
    "\n",
    "$$\n",
    "    Phi(z) = \\int_{-\\infty}^z \\frac{1}{\\sqrt{2\\pi}} e^{- \\frac{x^{2}}{2}}\n",
    "$$\n",
    "\n",
    "で与えられ，\n",
    "\n",
    "$$\n",
    "    P(-k \\le Z \\le k) = P(Z \\le k) - P(Z \\le -k) = \\Phi(k) - \\Phi(-k)\n",
    "$$\n",
    "\n",
    "中心極限定理の式は，標準化変数の形で，\n",
    "\n",
    "$$\n",
    "P(a \\le \\frac{\\bar{X} - \\mu}{\\sigma \\ /\\sqrt{n}} \\le b) \\fallingdotseq \\Phi(b) - \\Phi(a)\n",
    "$$"
   ]
  },
  {
   "cell_type": "code",
   "execution_count": 29,
   "metadata": {},
   "outputs": [
    {
     "data": {
      "image/png": "[encoded data removed]",
      "text/plain": [
       "<Figure size 1440x216 with 9 Axes>"
      ]
     },
     "metadata": {
      "needs_background": "light"
     },
     "output_type": "display_data"
    }
   ],
   "source": [
    "# 中心極限定理を実感してみる\n",
    "# 実験：n個サイコロを振って出た目の平均値の分布を調べる\n",
    "\n",
    "ns = [1,2,3,4,5,10,100,1000,1000000]\n",
    "# 投げる回数\n",
    "n_trial = 1000\n",
    "\n",
    "result_dict = {}\n",
    "\n",
    "for n in ns:\n",
    "    r = np.random.randint(1,7,(n_trial,n))\n",
    "    m = r.sum(axis=1) / n\n",
    "    result_dict[n] = m\n",
    "    \n",
    "# 描画\n",
    "\n",
    "fig = plt.figure(figsize=(20,3))\n",
    "\n",
    "for i in range(len(ns)):\n",
    "    ax = fig.add_subplot(1,len(ns),i+1)\n",
    "    ax.hist(result_dict[ns[i]], label=ns[i])\n",
    "    plt.legend()\n",
    "plt.show()"
   ]
  },
  {
   "cell_type": "markdown",
   "metadata": {},
   "source": [
    "幅を統一してないのでちょっとわかりにくいけど，n個サイコロを振ったときの出目の平均値は正規分布に近づいてるっぽいし，分散も小さくなり続けていることが実感できる．(サイコロの出目は一様分布に従うはずであるが，その和の平均値は正規分布に近づく．)"
   ]
  },
  {
   "cell_type": "markdown",
   "metadata": {},
   "source": [
    "### **証明**"
   ]
  },
  {
   "cell_type": "markdown",
   "metadata": {},
   "source": [
    "中心極限定理は確率分布の収束(確率論では法則収束)についてであるから，その証明にはモーメント母関数を使用する．    \n",
    "\n",
    "まず，$V(X_{1} + \\cdot \\cdot \\cdot + X_{n}) = n\\sigma^{2} \\propto n$であって，このままでは確率分布の存在範囲が左右の限界を迎えてしまうから，標準化変数\n",
    "\n",
    "$$\n",
    "(X_{1} + \\cdot \\cdot \\cdot + X_{n} - n\\mu) \\ /\\sqrt{n}\\sigma = (Y_{1} + \\cdot \\cdot \\cdot + Y_{n}) \\ /\\sqrt{n}\n",
    "$$\n",
    "\n",
    "の確率分布が，nが大きいとき正規分布に近づくことを示す．ここで，\n",
    "\n",
    "$$\n",
    "Y_{1} = (X_{1}-\\mu) \\ /\\sigma, \\ \\ \\ \\cdot \\cdot \\cdot \\ \\ \\ , Y_{n} = (X_{n}-\\mu) \\ /\\sigma\n",
    "$$\n",
    "\n",
    "は，おのおの$X_{1}, \\cdot \\cdot \\cdot, X_{n}$の標準化変数であって，\n",
    "\n",
    "$$\n",
    "E(Y_{1}) = E(Y_{2}) = \\cdot \\cdot \\cdot = E(Y_{n}) = 0, \\ \\ \\  V(Y_{1}) = V(Y_{2}) = \\cdot \\cdot \\cdot = V(Y_{n}) = 1\n",
    "$$\n",
    "\n",
    "となっている．$X_{1}, \\cdot \\cdot \\cdot, X_{n}$の確率変数はみな同一，よって$Y_{1}, \\cdot \\cdot \\cdot, Y_{n}$についてもそうであるから，\n",
    "その一つをYとおいてモーメント母関数をとる．1次のモーメント(期待値)がE(Y)=0，2次のモーメントが$E(Y^{2})=V(Y)=1$に注意して，\n",
    "\n",
    "$$\n",
    "M_{Y}(t) = 1 + t^{2}/2 + \\cdot \\cdot \\cdot\n",
    "$$\n",
    "\n",
    "$Y_{1} + \\cdot \\cdot \\cdot + Y_{n} \\equiv T$のモーメント母関数は$Y_{1}, \\cdot \\cdot \\cdot, Y_{n}$のそれらの積で，\n",
    "\n",
    "$$\n",
    "M_{T}(t) = \\{M_{Y}(t)\\}^{n} = (1 + t^{2}/2 + \\cdot \\cdot \\cdot)^{n}\n",
    "$$\n",
    "\n",
    "最終的に$(Y_{1} + \\cdot \\cdot \\cdot + Y_{n}) \\ /\\sqrt{n}$のモーメント母関数は，tを$\\sqrt{t}{\\sqrt{n}}$でおきかえ，\n",
    "\n",
    "$$\n",
    "M_{T}(\\frac{t}{\\sqrt{n}}) = \\{M_{Y}(\\frac{t}{\\sqrt{n}})\\}^{n} = (1 + t^{2}/2n + \\cdot \\cdot \\cdot)^{n} \\rightarrow exp(\\frac{t^{2}}{2})\n",
    "$$\n",
    "\n",
    "となり，これは標準正規分布のモーメント母艦数であるから，中心極限定理が証明された"
   ]
  },
  {
   "cell_type": "markdown",
   "metadata": {},
   "source": [
    "#### モーメント母関数に関する補足"
   ]
  },
  {
   "cell_type": "markdown",
   "metadata": {},
   "source": [
    "確率変数Xの(原点のまわりの)r次のモーメント(積率)は，\n",
    "\n",
    "$$\n",
    "\\mu_{r} = E(X^{r})\n",
    "$$\n",
    "\n",
    "であり，    \n",
    "\n",
    "Xの期待値(平均)のまわりのr次のモーメントを，\n",
    "\n",
    "$$\n",
    "\\mu^{\\prime}_{r} = E(X-\\mu)^{r} \n",
    "$$\n",
    "\n",
    "である．    \n",
    "\n",
    "また，Xのr次の標準化モーメントは，\n",
    "\n",
    "$$\n",
    "a_{r} = E\\{(X-\\mu)/\\sigma\\}^{r}\n",
    "$$\n",
    "\n",
    "である．    \n",
    "\n",
    "期待値や分散はモーメントの基礎的なモーメントである．\n",
    "\n",
    "$$\n",
    "\\mu_{1} = E(X),  \\ \\ \\ \\ \\ \\mu^{\\prime}_{2} = V(X)\n",
    "$$\n",
    "\n",
    "期待値，分散，歪度，尖度などを指定するに連れて，それに該当する確率分布の候補は制限されてくる．\n",
    "その極限として，全ての次数のモーメントを指定すれば，それにより一つの確率分布が決定されるはずである．\n",
    "すべての次数のモーメントを生成する**モーメント母関数**を，\n",
    "\n",
    "$$\n",
    "M_{X}(t) = E(e^{tX})\n",
    "$$\n",
    "\n",
    "と定義する．その計算は，\n",
    "\n",
    "$$\n",
    "\\begin{align}\n",
    "M_{X}(t) &= \\sum_{x} e^{tx} f(x) \\ \\ \\ \\ (離散型)\\\\\n",
    "M_{X}(t) &= \\int_{-\\infty}^{\\infty} e^{tx} f(x) dx \\ \\ \\ \\ (連続型)\n",
    "\\end{align}\n",
    "$$\n",
    "\n",
    "による．    \n",
    "\n",
    "モーメント母関数を繰り返し微分して0とおいた導関数は，\n",
    "\n",
    "$$\n",
    "M^{\\prime}_{X}(0) = \\mu_{1}, \\ \\ \\ \\ M^{\\prime\\prime}_{X}(0) = \\mu_{2}, \\ \\ \\ \\ M^{\\prime\\prime\\prime}_{X}(0) = \\mu_{3}\n",
    "$$\n",
    "\n",
    "などとなる．一般にモーメント母関数のr階導関数から\n",
    "\n",
    "$$\n",
    "M^{(r)}_{X}(0) = \\mu_{r}\n",
    "$$\n",
    "\n",
    "のように，各次数のモーメントがわかる．このように，モーメント母関数から，期待値，分散，歪度，尖度など，重要なモーメントが，厄介な計算をすることなく，比較的簡単な微分から求めることができる．    \n",
    "\n",
    "\n",
    "$M_{X}(t)$がモーメント$\\mu_{1},\\mu_{2},\\mu_{3}, \\cdot \\cdot \\cdot$を生成するのは，$e^{x}$の展開式\n",
    "\n",
    "$$\n",
    "e^{x} = 1 + x + \\frac{x^2}{2!} + \\frac{x^3}{3!} + \\cdot \\cdot \\cdot\n",
    "$$\n",
    "\n",
    "にtXを代入し，\n",
    "\n",
    "$$\n",
    "e^{tX} = 1 + tX + \\frac{(tX)^2}{2!} + \\frac{(tX)^3}{3!} + \\cdot \\cdot \\cdot\n",
    "$$\n",
    "\n",
    "で，両辺の期待値を取れば，\n",
    "\n",
    "$$\n",
    "\\begin{align}\n",
    "M_{X}(t) &= E(e^{tX}) \\\\\n",
    "         &= 1 + tE(X) + \\frac{t^{2}E(X^{2})}{2!} + \\frac{t^{3}E(X^{3})}{3!} + \\cdot \\cdot \\cdot \\\\\n",
    "         &= 1 + \\mu_{1}E(X) + \\frac{\\mu_{2}}{2!}t^{2} + \\frac{\\mu_{3}}{3!}t^{3} + \\cdot \\cdot \\cdot\n",
    "\\end{align}\n",
    "$$\n",
    "\n",
    "となる．これをtで微分すれば低次の項が消え，t=0を代入すれば高次の項は消える．"
   ]
  },
  {
   "cell_type": "markdown",
   "metadata": {},
   "source": [
    "##### **歪度，尖度についての補足**"
   ]
  },
  {
   "cell_type": "code",
   "execution_count": null,
   "metadata": {},
   "outputs": [],
   "source": []
  },
  {
   "cell_type": "markdown",
   "metadata": {},
   "source": [
    "### **コンピューター･シミュレーション**"
   ]
  },
  {
   "cell_type": "code",
   "execution_count": null,
   "metadata": {},
   "outputs": [],
   "source": []
  },
  {
   "cell_type": "markdown",
   "metadata": {},
   "source": [
    "### **中心極限定理の応用例**"
   ]
  },
  {
   "cell_type": "code",
   "execution_count": null,
   "metadata": {},
   "outputs": [],
   "source": []
  }
 ],
 "metadata": {
  "kernelspec": {
   "display_name": "Python 3",
   "language": "python",
   "name": "python3"
  },
  "language_info": {
   "codemirror_mode": {
    "name": "ipython",
    "version": 3
   },
   "file_extension": ".py",
   "mimetype": "text/x-python",
   "name": "python",
   "nbconvert_exporter": "python",
   "pygments_lexer": "ipython3",
   "version": "3.8.5"
  }
 },
 "nbformat": 4,
 "nbformat_minor": 4
}
