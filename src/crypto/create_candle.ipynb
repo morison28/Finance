{
 "cells": [
  {
   "cell_type": "markdown",
   "metadata": {},
   "source": [
    "ローソク足作成\n",
    "- bybitから約定データを取得･保存\n",
    "- 約定データからローソク足を作成"
   ]
  },
  {
   "cell_type": "code",
   "execution_count": 1,
   "metadata": {},
   "outputs": [],
   "source": [
    "from datetime import datetime\n",
    "from datetime import timedelta\n",
    "import gzip\n",
    "import os\n",
    "\n",
    "from tqdm import tqdm\n",
    "import pandas as pd\n",
    "from urllib import request"
   ]
  },
  {
   "cell_type": "markdown",
   "metadata": {},
   "source": [
    "## bybit api操作基礎\n",
    "https://note.com/kanawoinvestment/n/ne287ff725fd9"
   ]
  },
  {
   "cell_type": "markdown",
   "metadata": {},
   "source": [
    "## 約定データの作成"
   ]
  },
  {
   "cell_type": "markdown",
   "metadata": {},
   "source": [
    "対象ペア    \n",
    "'BTC/USD'    \n",
    "'ETH/USD'    \n",
    "'EOS/USD'    \n",
    "'XRP/USD'    \n",
    "'BTC/USDT'    \n",
    "'BCH/USDT'    \n",
    "'ETH/USDT'    \n",
    "'LTC/USDT'    \n",
    "'LINK/USDT'    \n",
    "'XTZ/USDT'   "
   ]
  },
  {
   "cell_type": "code",
   "execution_count": 2,
   "metadata": {},
   "outputs": [],
   "source": [
    "def create_date_list(start_date:str,\n",
    "                     end_date:str) -> list:\n",
    "    \"\"\"\n",
    "    文字列型の日付リストを作成\n",
    "    \"\"\"\n",
    "    datetime_format = '%Y-%m-%d'\n",
    "    start = datetime.strptime(start_date, datetime_format)\n",
    "    end = datetime.strptime(end_date, datetime_format)\n",
    "    period = (end - start).days\n",
    "    return [datetime.strftime(start+timedelta(i),\n",
    "                               datetime_format)\n",
    "            for i in range(period+1)]\n",
    "\n",
    "def fetch_executions(target_zipfile_url:str) -> pd.DataFrame:\n",
    "    # URL先ファイルを取得\n",
    "    request.urlretrieve(target_zipfile_url,'tmp_zip.csv.gz')\n",
    "    with gzip.open('tmp_zip.csv.gz', 'rb') as f:\n",
    "        df = pd.read_csv(f)\n",
    "    return df"
   ]
  },
  {
   "cell_type": "code",
   "execution_count": 9,
   "metadata": {},
   "outputs": [],
   "source": [
    "# 対象通貨ペア指定\n",
    "SYMBOL = 'BTCUSD'\n",
    "# bybitの約定CSVデータの保存先\n",
    "BASE_URL = 'https://public.bybit.com/trading/'+SYMBOL+'/'\n",
    "# 約定データの保存先\n",
    "DATA_DIR = '../../data/crypto/bybit/executions/'+SYMBOL+'/'\n",
    "\n",
    "# 回収対象期間\n",
    "start_date = '2019-10-01'\n",
    "end_date = '2021-03-13'"
   ]
  },
  {
   "cell_type": "code",
   "execution_count": 10,
   "metadata": {},
   "outputs": [
    {
     "name": "stderr",
     "output_type": "stream",
     "text": [
      "100%|██████████| 530/530 [41:59<00:00,  4.75s/it]\n"
     ]
    }
   ],
   "source": [
    "date_list = create_date_list(start_date,\n",
    "                             end_date)\n",
    "\n",
    "for date in tqdm(date_list):\n",
    "    try:\n",
    "        csvfile_name = SYMBOL+date+'.csv'\n",
    "        zipfile_name = csvfile_name + '.gz'\n",
    "        target_zipfile_url = BASE_URL + zipfile_name\n",
    "        df_exec = fetch_executions(target_zipfile_url)\n",
    "        df_exec.to_csv(DATA_DIR+csvfile_name)\n",
    "    except:\n",
    "        continue\n",
    "        \n",
    "os.remove('tmp_zip.csv.gz')"
   ]
  },
  {
   "cell_type": "markdown",
   "metadata": {},
   "source": [
    "## ローソク足作成\n",
    "参考"
   ]
  },
  {
   "cell_type": "code",
   "execution_count": 13,
   "metadata": {},
   "outputs": [],
   "source": [
    "# 対象ペア\n",
    "SYMBOL = 'ETHUSD'\n",
    "\n",
    "start_date = '2019-10-01'\n",
    "end_date   = '2021-03-13'\n",
    "\n",
    "date_list = create_date_list(start_date,\n",
    "                             end_date)"
   ]
  },
  {
   "cell_type": "code",
   "execution_count": 14,
   "metadata": {},
   "outputs": [
    {
     "name": "stderr",
     "output_type": "stream",
     "text": [
      "100%|██████████| 530/530 [04:53<00:00,  1.80it/s]\n",
      "100%|██████████| 530/530 [04:56<00:00,  1.79it/s]\n",
      "100%|██████████| 530/530 [04:54<00:00,  1.80it/s]\n",
      "100%|██████████| 530/530 [04:49<00:00,  1.83it/s]\n",
      "100%|██████████| 530/530 [04:56<00:00,  1.79it/s]\n",
      "100%|██████████| 530/530 [04:57<00:00,  1.78it/s]\n",
      "100%|██████████| 530/530 [04:57<00:00,  1.78it/s]\n",
      "100%|██████████| 530/530 [04:57<00:00,  1.78it/s]\n",
      "100%|██████████| 530/530 [04:56<00:00,  1.79it/s]\n"
     ]
    }
   ],
   "source": [
    "durations = [\n",
    "    '1min',\n",
    "    '5min',\n",
    "    '15min',\n",
    "    '30min',\n",
    "    '1H',\n",
    "    '4H',\n",
    "    '1D',\n",
    "    '1W',\n",
    "    '1M',\n",
    "]\n",
    "\n",
    "# D: 毎日\n",
    "# H: 毎時\n",
    "# Tまたはmin: 毎分\n",
    "# S: 毎秒\n",
    "# Lまたはms: 毎ミリ秒\n",
    "# Uまたはus: 毎マイクロ秒\n",
    "# N: 毎ナノ秒\n",
    "# 参考: https://note.nkmk.me/python-pandas-time-series-freq/\n",
    "\n",
    "for duration in durations:\n",
    "    ohlcv_list = []\n",
    "    for date in tqdm(date_list):\n",
    "        try:\n",
    "            df_exec = pd.read_csv(\n",
    "                '../../data/crypto/bybit/executions/'\n",
    "                + SYMBOL + '/'\n",
    "                + SYMBOL + date + '.csv')\n",
    "            df_exec['exec_timestamp'] = pd.to_datetime(df_exec['timestamp'],\n",
    "                                                       unit='s')\n",
    "            df_exec = df_exec.set_index('exec_timestamp')[['side',\n",
    "                                                           'size',\n",
    "                                                           'price']]\n",
    "            df_ohlcv = df_exec.resample(duration).agg({'price': 'ohlc',\n",
    "                                                       'size' : 'sum'}).ffill()\n",
    "            df_ohlcv.columns = ['open','high','low','close','volume']\n",
    "            ohlcv_list.append(df_ohlcv)\n",
    "\n",
    "        except:\n",
    "            continue\n",
    "            \n",
    "    pd.concat(ohlcv_list).to_csv(\n",
    "        '../../data/crypto/bybit/ohlcv/'\n",
    "        + SYMBOL + '/'\n",
    "        + SYMBOL + '_' + duration + '.csv')"
   ]
  },
  {
   "cell_type": "markdown",
   "metadata": {},
   "source": [
    "## 売買別出来高を集計"
   ]
  },
  {
   "cell_type": "code",
   "execution_count": null,
   "metadata": {},
   "outputs": [],
   "source": [
    "# TODO"
   ]
  },
  {
   "cell_type": "markdown",
   "metadata": {},
   "source": [
    "## 板情報の集計"
   ]
  },
  {
   "cell_type": "code",
   "execution_count": null,
   "metadata": {},
   "outputs": [],
   "source": [
    "# TODO"
   ]
  },
  {
   "cell_type": "code",
   "execution_count": 15,
   "metadata": {},
   "outputs": [],
   "source": [
    "import ccxt\n",
    "\n",
    "bybit = ccxt.bybit()"
   ]
  },
  {
   "cell_type": "code",
   "execution_count": 16,
   "metadata": {
    "collapsed": true,
    "jupyter": {
     "outputs_hidden": true
    }
   },
   "outputs": [
    {
     "data": {
      "text/plain": [
       "{'bids': [[54038.5, 3214770.0],\n",
       "  [54038.0, 370150.0],\n",
       "  [54037.5, 320148.0],\n",
       "  [54037.0, 271983.0],\n",
       "  [54036.5, 126541.0],\n",
       "  [54036.0, 130021.0],\n",
       "  [54035.5, 188.0],\n",
       "  [54034.5, 634028.0],\n",
       "  [54034.0, 129201.0],\n",
       "  [54033.5, 20241.0],\n",
       "  [54033.0, 17290.0],\n",
       "  [54032.5, 97105.0],\n",
       "  [54032.0, 86678.0],\n",
       "  [54031.5, 48216.0],\n",
       "  [54031.0, 44865.0],\n",
       "  [54030.5, 29613.0],\n",
       "  [54030.0, 17937.0],\n",
       "  [54029.5, 34461.0],\n",
       "  [54029.0, 74059.0],\n",
       "  [54028.5, 203195.0],\n",
       "  [54028.0, 154414.0],\n",
       "  [54027.5, 219500.0],\n",
       "  [54027.0, 170890.0],\n",
       "  [54026.5, 10334.0],\n",
       "  [54026.0, 132393.0]],\n",
       " 'asks': [[54039.0, 161257.0],\n",
       "  [54039.5, 915.0],\n",
       "  [54040.0, 4984.0],\n",
       "  [54040.5, 4361.0],\n",
       "  [54041.0, 1831.0],\n",
       "  [54041.5, 3.0],\n",
       "  [54042.0, 1660.0],\n",
       "  [54042.5, 10.0],\n",
       "  [54043.5, 11.0],\n",
       "  [54044.0, 5033.0],\n",
       "  [54044.5, 9.0],\n",
       "  [54045.5, 1831.0],\n",
       "  [54046.0, 18672.0],\n",
       "  [54047.0, 321.0],\n",
       "  [54047.5, 1277.0],\n",
       "  [54048.0, 2006.0],\n",
       "  [54048.5, 75.0],\n",
       "  [54049.5, 2005.0],\n",
       "  [54050.0, 30025.0],\n",
       "  [54050.5, 200.0],\n",
       "  [54051.0, 23.0],\n",
       "  [54051.5, 1371.0],\n",
       "  [54052.0, 6.0],\n",
       "  [54052.5, 10.0],\n",
       "  [54054.0, 6.0]],\n",
       " 'timestamp': 1615865292777,\n",
       " 'datetime': '2021-03-16T03:28:12.777Z',\n",
       " 'nonce': None}"
      ]
     },
     "execution_count": 16,
     "metadata": {},
     "output_type": "execute_result"
    }
   ],
   "source": [
    "bybit.fetch_order_book('BTC/USD')"
   ]
  },
  {
   "cell_type": "code",
   "execution_count": null,
   "metadata": {},
   "outputs": [],
   "source": []
  },
  {
   "cell_type": "code",
   "execution_count": null,
   "metadata": {},
   "outputs": [],
   "source": []
  },
  {
   "cell_type": "code",
   "execution_count": null,
   "metadata": {},
   "outputs": [],
   "source": []
  }
 ],
 "metadata": {
  "kernelspec": {
   "display_name": "Python 3",
   "language": "python",
   "name": "python3"
  },
  "language_info": {
   "codemirror_mode": {
    "name": "ipython",
    "version": 3
   },
   "file_extension": ".py",
   "mimetype": "text/x-python",
   "name": "python",
   "nbconvert_exporter": "python",
   "pygments_lexer": "ipython3",
   "version": "3.8.5"
  }
 },
 "nbformat": 4,
 "nbformat_minor": 4
}
