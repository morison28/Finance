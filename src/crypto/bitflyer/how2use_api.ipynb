{
 "cells": [
  {
   "cell_type": "markdown",
   "metadata": {},
   "source": [
    "- bitflyerのAPI設定\n",
    "- ティッカーとか板情報の取得"
   ]
  },
  {
   "cell_type": "code",
   "execution_count": 19,
   "metadata": {},
   "outputs": [],
   "source": [
    "import configparser\n",
    "from datetime import datetime as dt\n",
    "import os\n",
    "import threading\n",
    "import time\n",
    "import websocket\n",
    "\n",
    "import ccxt\n",
    "import numpy as np\n",
    "import pandas as pd\n",
    "import pytz\n",
    "from tqdm import tqdm"
   ]
  },
  {
   "cell_type": "code",
   "execution_count": 2,
   "metadata": {},
   "outputs": [],
   "source": [
    "# API\n",
    "\n",
    "conf = configparser.ConfigParser()\n",
    "conf.read('../../../data/bot/settings.ini')\n",
    "\n",
    "api_key = conf['bitflyer']['api_key']\n",
    "api_secret = conf['bitflyer']['api_secret']\n",
    "\n",
    "# CCXT\n",
    "bitflyer = ccxt.bitflyer()\n",
    "\n",
    "bitflyer.apiKey = api_key\n",
    "bitflyer.secret = api_secret"
   ]
  },
  {
   "cell_type": "code",
   "execution_count": 3,
   "metadata": {},
   "outputs": [],
   "source": [
    "# 5分で300回以上リクエストを送るとエラー\n",
    "# https://lightning.bitflyer.com/docs?lang=ja#http-private-api"
   ]
  },
  {
   "cell_type": "code",
   "execution_count": 4,
   "metadata": {},
   "outputs": [],
   "source": [
    "# 口座残高の確認\n",
    "\n",
    "# bitflyer.private_get_getbalance()"
   ]
  },
  {
   "cell_type": "markdown",
   "metadata": {},
   "source": [
    "## ticker"
   ]
  },
  {
   "cell_type": "code",
   "execution_count": 5,
   "metadata": {},
   "outputs": [],
   "source": [
    "params = {\n",
    "    'product_code': 'BTC_JPY'\n",
    "}"
   ]
  },
  {
   "cell_type": "code",
   "execution_count": 6,
   "metadata": {},
   "outputs": [
    {
     "data": {
      "text/plain": [
       "{'product_code': 'BTC_JPY',\n",
       " 'state': 'RUNNING',\n",
       " 'timestamp': '2021-03-17T18:30:12.437',\n",
       " 'tick_id': 39123004,\n",
       " 'best_bid': 6163372.0,\n",
       " 'best_ask': 6166160.0,\n",
       " 'best_bid_size': 0.22,\n",
       " 'best_ask_size': 1e-06,\n",
       " 'total_bid_depth': 798.61931575,\n",
       " 'total_ask_depth': 660.5264746,\n",
       " 'market_bid_size': 0.0,\n",
       " 'market_ask_size': 0.0,\n",
       " 'ltp': 6162334.0,\n",
       " 'volume': 19413.99439873,\n",
       " 'volume_by_product': 6268.91036798}"
      ]
     },
     "execution_count": 6,
     "metadata": {},
     "output_type": "execute_result"
    }
   ],
   "source": [
    "ticker = bitflyer.public_get_getticker(params=params)\n",
    "ticker"
   ]
  },
  {
   "cell_type": "code",
   "execution_count": 7,
   "metadata": {},
   "outputs": [
    {
     "data": {
      "text/plain": [
       "0.045242598015622006"
      ]
     },
     "execution_count": 7,
     "metadata": {},
     "output_type": "execute_result"
    }
   ],
   "source": [
    "bid = ticker['best_bid']\n",
    "ask = ticker['best_ask']\n",
    "ltp = ticker['ltp']\n",
    "\n",
    "# 実際のspreadと一致することを確認\n",
    "(ask - bid) / ltp * 100"
   ]
  },
  {
   "cell_type": "markdown",
   "metadata": {},
   "source": [
    "## 板"
   ]
  },
  {
   "cell_type": "code",
   "execution_count": 8,
   "metadata": {},
   "outputs": [],
   "source": [
    "# bitflyer.public_get_getboard(params)"
   ]
  },
  {
   "cell_type": "code",
   "execution_count": null,
   "metadata": {},
   "outputs": [],
   "source": []
  },
  {
   "cell_type": "markdown",
   "metadata": {},
   "source": [
    "## 約定データ(bitflyer版)"
   ]
  },
  {
   "cell_type": "code",
   "execution_count": 9,
   "metadata": {},
   "outputs": [],
   "source": [
    "# 取得対象\n",
    "symbol = 'BTC_JPY'\n",
    "market = 'Spot' # 現物\n",
    "before = 0      # 初期値"
   ]
  },
  {
   "cell_type": "code",
   "execution_count": 12,
   "metadata": {},
   "outputs": [],
   "source": [
    "def utcstr2jpystr(utc_str: str) -> str:\n",
    "    utc_tz = pytz.timezone('UTC')\n",
    "    jst_tz = pytz.timezone('Asia/Tokyo')\n",
    "    # マイクロ秒切り捨て\n",
    "    utc_str = utc_str[:19]\n",
    "    utc_datetime = dt.strptime(utc_str, \"%Y-%m-%dT%H:%M:%S\")\n",
    "    utc_datetime = utc_tz.localize(utc_datetime)\n",
    "    jst_datetime = utc_datetime.astimezone(jst_tz)\n",
    "    jst_str = dt.strftime(jst_datetime, \"%Y-%m-%dT%H:%M:%S\")\n",
    "    return jst_str"
   ]
  },
  {
   "cell_type": "code",
   "execution_count": 16,
   "metadata": {},
   "outputs": [
    {
     "name": "stdout",
     "output_type": "stream",
     "text": [
      "already have some executions data..\n"
     ]
    }
   ],
   "source": [
    "# 約定データの保存先\n",
    "path = '../../../data/crypto/bitflyer/executions/'\n",
    "\n",
    "# すでに持っているデータ\n",
    "try:\n",
    "    executions = os.listdir(path+symbol)\n",
    "except:\n",
    "    # ディレクトリが無いなら作る\n",
    "    os.mkdir(path+symbol)\n",
    "    executions = os.listdir(path+symbol)\n",
    "    \n",
    "if '.ipynb_checkpoints' in executions:\n",
    "    executions.remove('.ipynb_checkpoints')\n",
    "\n",
    "# TODO:過去に取得してるなら差分だけ取得\n",
    "if executions:\n",
    "    print('already have some executions data..')\n",
    "# まだ約定データを1個も持ってない場合\n",
    "else:\n",
    "    print('not have any executions data..')\n",
    "    df_exec_list = []\n",
    "    before = 0 # 初期値\n",
    "    while True:\n",
    "        params = {\n",
    "            'product_code': symbol,\n",
    "            'market': market,\n",
    "            'count': 500,\n",
    "            'before': before,\n",
    "        }\n",
    "        execution = bitflyer.public_get_getexecutions(params=params)\n",
    "        # 次のループの取得開始ID\n",
    "        before = execution[-1]['id']\n",
    "        df_exec = pd.DataFrame(execution)\\\n",
    "                    .sort_values('id')\\\n",
    "                    .set_index('id')\n",
    "        df_exec_list.append(df_exec)\n",
    "        # 約定データ数が溜まったら保存\n",
    "        # 100万件溜まったら保存\n",
    "        if len(df_exec_list) == 1000000 / 500:\n",
    "            df_executions = pd.concat(df_exec_list)\n",
    "            # 昇順にソート\n",
    "            df_executions = df_executions.sort_values('id', ascending=True)\n",
    "            start_id = str(df_executions.index[0])\n",
    "            end_id = str(df_executions.index[-1])\n",
    "            filename = symbol + '_' + start_id + '_' + end_id + '.csv'\n",
    "            df_executions['exec_date'] = list(map(lambda x: utcstr2jpystr(x), df_executions['exec_date']))\n",
    "            df_executions.to_csv(path + symbol + '/' + filename)\n",
    "            # 初期化\n",
    "            df_exec_list = []\n",
    "            print(filename)\n",
    "        # ループ終了処理\n",
    "        if True:\n",
    "            pass\n",
    "        \n",
    "        time.sleep(1.0)"
   ]
  },
  {
   "cell_type": "markdown",
   "metadata": {},
   "source": [
    "## 約定履歴からのローソク足作成 "
   ]
  },
  {
   "cell_type": "code",
   "execution_count": 42,
   "metadata": {},
   "outputs": [],
   "source": [
    "symbol = 'BTC_JPY'\n",
    "\n",
    "durations = [\n",
    "    '1min',\n",
    "    '5min',\n",
    "    '15min',\n",
    "    '30min',\n",
    "    '1H',\n",
    "    '4H',\n",
    "    '1D',\n",
    "    '1W',\n",
    "    '1M',\n",
    "]\n",
    "\n",
    "# D: 毎日\n",
    "# H: 毎時\n",
    "# Tまたはmin: 毎分\n",
    "# S: 毎秒\n",
    "# Lまたはms: 毎ミリ秒\n",
    "# Uまたはus: 毎マイクロ秒\n",
    "# N: 毎ナノ秒\n",
    "# 参考: https://note.nkmk.me/python-pandas-time-series-freq/"
   ]
  },
  {
   "cell_type": "code",
   "execution_count": 43,
   "metadata": {},
   "outputs": [],
   "source": [
    "df_exec_1 = pd.read_csv('../../../data/crypto/bitflyer/executions/BTC_JPY/BTC_JPY_2174147013_2184143666.csv')\n",
    "df_exec_2 = pd.read_csv('../../../data/crypto/bitflyer/executions/BTC_JPY/BTC_JPY_2184143667_2196129395.csv')\n",
    "df_exec_3 = pd.read_csv('../../../data/crypto/bitflyer/executions/BTC_JPY/BTC_JPY_2196129396_2200914238.csv')\n",
    "df_exec_list = [df_exec_1, df_exec_2, df_exec_3] # 古い順"
   ]
  },
  {
   "cell_type": "code",
   "execution_count": 45,
   "metadata": {},
   "outputs": [
    {
     "name": "stderr",
     "output_type": "stream",
     "text": [
      "100%|██████████| 9/9 [00:03<00:00,  2.34it/s]\n"
     ]
    }
   ],
   "source": [
    "for duration in tqdm(durations):\n",
    "    ohlcv_list = []\n",
    "    for df_exec in df_exec_list:\n",
    "        df_exec['exec_date'] = pd.to_datetime(df_exec['exec_date'])\n",
    "        df_exec = df_exec.set_index('exec_date')[['side',\n",
    "                                                  'size',\n",
    "                                                  'price']]\n",
    "        df_ohlcv = df_exec.resample(duration)\\\n",
    "                                .agg({'price': 'ohlc',\n",
    "                                      'size' : 'sum'}).ffill()\n",
    "        df_ohlcv.columns = ['open','high','low','close','volume']\n",
    "        ohlcv_list.append(df_ohlcv)\n",
    "        \n",
    "    ohlcv = pd.concat(ohlcv_list)\n",
    "    ohlcv.to_csv('../../../data/crypto/bitflyer/ohlcv/' +\n",
    "                 symbol + '/' +\n",
    "                 'bf-{}-{}-{}-{}.csv'\\\n",
    "                .format(symbol,\n",
    "                        duration,\n",
    "                        ohlcv.index[0],\n",
    "                        ohlcv.index[-1]))"
   ]
  },
  {
   "cell_type": "code",
   "execution_count": 37,
   "metadata": {},
   "outputs": [
    {
     "data": {
      "text/html": [
       "<div>\n",
       "<style scoped>\n",
       "    .dataframe tbody tr th:only-of-type {\n",
       "        vertical-align: middle;\n",
       "    }\n",
       "\n",
       "    .dataframe tbody tr th {\n",
       "        vertical-align: top;\n",
       "    }\n",
       "\n",
       "    .dataframe thead th {\n",
       "        text-align: right;\n",
       "    }\n",
       "</style>\n",
       "<table border=\"1\" class=\"dataframe\">\n",
       "  <thead>\n",
       "    <tr style=\"text-align: right;\">\n",
       "      <th></th>\n",
       "      <th>side</th>\n",
       "      <th>size</th>\n",
       "      <th>price</th>\n",
       "    </tr>\n",
       "    <tr>\n",
       "      <th>exec_date</th>\n",
       "      <th></th>\n",
       "      <th></th>\n",
       "      <th></th>\n",
       "    </tr>\n",
       "  </thead>\n",
       "  <tbody>\n",
       "    <tr>\n",
       "      <th>2021-02-17T17:56:58</th>\n",
       "      <td>BUY</td>\n",
       "      <td>0.01084</td>\n",
       "      <td>5394180.0</td>\n",
       "    </tr>\n",
       "    <tr>\n",
       "      <th>2021-02-17T17:56:58</th>\n",
       "      <td>BUY</td>\n",
       "      <td>0.00916</td>\n",
       "      <td>5394180.0</td>\n",
       "    </tr>\n",
       "    <tr>\n",
       "      <th>2021-02-17T17:56:58</th>\n",
       "      <td>BUY</td>\n",
       "      <td>0.13100</td>\n",
       "      <td>5394536.0</td>\n",
       "    </tr>\n",
       "    <tr>\n",
       "      <th>2021-02-17T17:56:58</th>\n",
       "      <td>BUY</td>\n",
       "      <td>0.00974</td>\n",
       "      <td>5396904.0</td>\n",
       "    </tr>\n",
       "    <tr>\n",
       "      <th>2021-02-17T17:56:59</th>\n",
       "      <td>SELL</td>\n",
       "      <td>0.02000</td>\n",
       "      <td>5394150.0</td>\n",
       "    </tr>\n",
       "  </tbody>\n",
       "</table>\n",
       "</div>"
      ],
      "text/plain": [
       "                     side     size      price\n",
       "exec_date                                    \n",
       "2021-02-17T17:56:58   BUY  0.01084  5394180.0\n",
       "2021-02-17T17:56:58   BUY  0.00916  5394180.0\n",
       "2021-02-17T17:56:58   BUY  0.13100  5394536.0\n",
       "2021-02-17T17:56:58   BUY  0.00974  5396904.0\n",
       "2021-02-17T17:56:59  SELL  0.02000  5394150.0"
      ]
     },
     "execution_count": 37,
     "metadata": {},
     "output_type": "execute_result"
    }
   ],
   "source": [
    "df_exec.head()"
   ]
  },
  {
   "cell_type": "markdown",
   "metadata": {},
   "source": [
    "## 板データ収集"
   ]
  },
  {
   "cell_type": "code",
   "execution_count": 18,
   "metadata": {},
   "outputs": [],
   "source": [
    "# 以下のコードでも取得出来るけど呼び出し制限回数がある\n",
    "# 従ってリアルタイムAPIを使って板情報の差分を更新し続けなくてはいけない\n",
    "\n",
    "# bitflyer.public_get_getboard()"
   ]
  },
  {
   "cell_type": "code",
   "execution_count": null,
   "metadata": {},
   "outputs": [],
   "source": []
  }
 ],
 "metadata": {
  "kernelspec": {
   "display_name": "Python 3",
   "language": "python",
   "name": "python3"
  },
  "language_info": {
   "codemirror_mode": {
    "name": "ipython",
    "version": 3
   },
   "file_extension": ".py",
   "mimetype": "text/x-python",
   "name": "python",
   "nbconvert_exporter": "python",
   "pygments_lexer": "ipython3",
   "version": "3.8.5"
  }
 },
 "nbformat": 4,
 "nbformat_minor": 4
}
