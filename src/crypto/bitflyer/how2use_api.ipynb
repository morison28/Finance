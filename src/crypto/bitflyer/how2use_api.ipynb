{
 "cells": [
  {
   "cell_type": "markdown",
   "metadata": {},
   "source": [
    "- bitflyerのAPI設定\n",
    "- ティッカーとか板情報の取得"
   ]
  },
  {
   "cell_type": "code",
   "execution_count": 1,
   "metadata": {},
   "outputs": [],
   "source": [
    "import configparser\n",
    "import os\n",
    "import time\n",
    "\n",
    "import ccxt\n",
    "import numpy as np\n",
    "import pandas as pd\n",
    "from tqdm import tqdm"
   ]
  },
  {
   "cell_type": "code",
   "execution_count": 2,
   "metadata": {},
   "outputs": [],
   "source": [
    "# API\n",
    "\n",
    "conf = configparser.ConfigParser()\n",
    "conf.read('../../../data/bot/settings.ini')\n",
    "\n",
    "api_key = conf['bitflyer']['api_key']\n",
    "api_secret = conf['bitflyer']['api_secret']\n",
    "\n",
    "# CCXT\n",
    "bitflyer = ccxt.bitflyer()\n",
    "\n",
    "bitflyer.apiKey = api_key\n",
    "bitflyer.secret = api_secret"
   ]
  },
  {
   "cell_type": "code",
   "execution_count": 8,
   "metadata": {},
   "outputs": [],
   "source": [
    "# 5分で300回以上リクエストを送るとエラー\n",
    "# https://lightning.bitflyer.com/docs?lang=ja#http-private-api"
   ]
  },
  {
   "cell_type": "code",
   "execution_count": 5,
   "metadata": {},
   "outputs": [],
   "source": [
    "# 口座残高の確認\n",
    "\n",
    "# bitflyer.private_get_getbalance()"
   ]
  },
  {
   "cell_type": "markdown",
   "metadata": {},
   "source": [
    "## ticker"
   ]
  },
  {
   "cell_type": "code",
   "execution_count": 3,
   "metadata": {},
   "outputs": [],
   "source": [
    "params = {\n",
    "    'product_code': 'BTC_JPY'\n",
    "}"
   ]
  },
  {
   "cell_type": "code",
   "execution_count": 4,
   "metadata": {},
   "outputs": [
    {
     "data": {
      "text/plain": [
       "{'product_code': 'BTC_JPY',\n",
       " 'state': 'RUNNING',\n",
       " 'timestamp': '2021-03-17T14:48:57.907',\n",
       " 'tick_id': 38827729,\n",
       " 'best_bid': 5991413.0,\n",
       " 'best_ask': 5992941.0,\n",
       " 'best_bid_size': 0.03,\n",
       " 'best_ask_size': 0.01,\n",
       " 'total_bid_depth': 781.92131423,\n",
       " 'total_ask_depth': 714.00123975,\n",
       " 'market_bid_size': 0.0,\n",
       " 'market_ask_size': 0.0,\n",
       " 'ltp': 5991413.0,\n",
       " 'volume': 20168.34288394,\n",
       " 'volume_by_product': 6102.17743352}"
      ]
     },
     "execution_count": 4,
     "metadata": {},
     "output_type": "execute_result"
    }
   ],
   "source": [
    "ticker = bitflyer.public_get_getticker(params=params)\n",
    "ticker"
   ]
  },
  {
   "cell_type": "code",
   "execution_count": 5,
   "metadata": {},
   "outputs": [
    {
     "data": {
      "text/plain": [
       "0.025503165947665433"
      ]
     },
     "execution_count": 5,
     "metadata": {},
     "output_type": "execute_result"
    }
   ],
   "source": [
    "bid = ticker['best_bid']\n",
    "ask = ticker['best_ask']\n",
    "ltp = ticker['ltp']\n",
    "\n",
    "# 実際のspreadと一致することを確認\n",
    "(ask - bid) / ltp * 100"
   ]
  },
  {
   "cell_type": "markdown",
   "metadata": {},
   "source": [
    "## 板"
   ]
  },
  {
   "cell_type": "code",
   "execution_count": 23,
   "metadata": {},
   "outputs": [],
   "source": [
    "# bitflyer.public_get_getboard(params)"
   ]
  },
  {
   "cell_type": "code",
   "execution_count": null,
   "metadata": {},
   "outputs": [],
   "source": []
  },
  {
   "cell_type": "markdown",
   "metadata": {},
   "source": [
    "## 約定データ(bitflyer版)"
   ]
  },
  {
   "cell_type": "code",
   "execution_count": 6,
   "metadata": {},
   "outputs": [],
   "source": [
    "# 取得対象\n",
    "symbol = 'BTC_JPY'\n",
    "market = 'Spot' # 現物\n",
    "before = 0      # 初期値"
   ]
  },
  {
   "cell_type": "code",
   "execution_count": null,
   "metadata": {},
   "outputs": [
    {
     "name": "stdout",
     "output_type": "stream",
     "text": [
      "not have any executions data..\n"
     ]
    }
   ],
   "source": [
    "# 約定データの保存先\n",
    "path = '../../../data/crypto/bitflyer/executions/'\n",
    "\n",
    "# すでに持っているデータ\n",
    "try:\n",
    "    executions = os.listdir(path+symbol)\n",
    "except:\n",
    "    # ディレクトリが無いなら作る\n",
    "    os.mkdir(path+symbol)\n",
    "    executions = os.listdir(path+symbol)\n",
    "    \n",
    "if '.ipynb_checkpoints' in executions:\n",
    "    executions.remove('.ipynb_checkpoints')\n",
    "\n",
    "# TODO:過去に取得してるなら差分だけ取得\n",
    "if executions:\n",
    "    print('already have some executions data..')\n",
    "# まだ約定データを1個も持ってない場合\n",
    "else:\n",
    "    print('not have any executions data..')\n",
    "    df_exec_list = []\n",
    "    before = 0 # 初期値\n",
    "    while True:\n",
    "        params = {\n",
    "            'product_code': symbol,\n",
    "            'market': market,\n",
    "            'count': 500,\n",
    "            'before': before,\n",
    "        }\n",
    "        execution = bitflyer.public_get_getexecutions(params=params)\n",
    "        # 次のループの取得開始ID\n",
    "        before = execution[-1]['id']\n",
    "        df_exec = pd.DataFrame(execution)\\\n",
    "                    .sort_values('id')\\\n",
    "                    .set_index('id')\n",
    "        df_exec_list.append(df_exec)\n",
    "        # 約定データ数が溜まったら保存\n",
    "        # 60万件溜まったら保存\n",
    "        if len(df_exec_list) == 600000 / 500:\n",
    "            df_executions = pd.concat(df_exec_list)\n",
    "            # 昇順にソート\n",
    "            df_executions = df_executions.sort_values('id', ascending=True)\n",
    "            start_id = str(df_executions.index[0])\n",
    "            end_id = str(df_executions.index[-1])\n",
    "            filename = filename_prefix + '_' + start_id + '_' + end_id + '.csv'\n",
    "            df_executions['exec_date'] = list(map(lambda x: utcstr2jpystr(x), df_executions['exec_date']))\n",
    "            df_executions.to_csv(filepath + filename)\n",
    "            # 初期化\n",
    "            df_exec_list = []\n",
    "            print(filename)\n",
    "        # ループ終了処理\n",
    "        if True:\n",
    "            pass\n",
    "        \n",
    "        time.sleep(1.0)"
   ]
  },
  {
   "cell_type": "code",
   "execution_count": 10,
   "metadata": {},
   "outputs": [
    {
     "data": {
      "text/html": [
       "<div>\n",
       "<style scoped>\n",
       "    .dataframe tbody tr th:only-of-type {\n",
       "        vertical-align: middle;\n",
       "    }\n",
       "\n",
       "    .dataframe tbody tr th {\n",
       "        vertical-align: top;\n",
       "    }\n",
       "\n",
       "    .dataframe thead th {\n",
       "        text-align: right;\n",
       "    }\n",
       "</style>\n",
       "<table border=\"1\" class=\"dataframe\">\n",
       "  <thead>\n",
       "    <tr style=\"text-align: right;\">\n",
       "      <th></th>\n",
       "      <th>side</th>\n",
       "      <th>price</th>\n",
       "      <th>size</th>\n",
       "      <th>exec_date</th>\n",
       "      <th>buy_child_order_acceptance_id</th>\n",
       "      <th>sell_child_order_acceptance_id</th>\n",
       "    </tr>\n",
       "    <tr>\n",
       "      <th>id</th>\n",
       "      <th></th>\n",
       "      <th></th>\n",
       "      <th></th>\n",
       "      <th></th>\n",
       "      <th></th>\n",
       "      <th></th>\n",
       "    </tr>\n",
       "  </thead>\n",
       "  <tbody>\n",
       "    <tr>\n",
       "      <th>2200758628</th>\n",
       "      <td>SELL</td>\n",
       "      <td>6014126.0</td>\n",
       "      <td>0.01275</td>\n",
       "      <td>2021-03-17T10:11:55.597</td>\n",
       "      <td>JRF20210317-101151-203581</td>\n",
       "      <td>JRF20210317-101155-223836</td>\n",
       "    </tr>\n",
       "    <tr>\n",
       "      <th>2200758629</th>\n",
       "      <td>SELL</td>\n",
       "      <td>6013227.0</td>\n",
       "      <td>0.01000</td>\n",
       "      <td>2021-03-17T10:11:55.957</td>\n",
       "      <td>JRF20210317-101141-464303</td>\n",
       "      <td>JRF20210317-101155-100707</td>\n",
       "    </tr>\n",
       "    <tr>\n",
       "      <th>2200758630</th>\n",
       "      <td>SELL</td>\n",
       "      <td>6013000.0</td>\n",
       "      <td>0.03000</td>\n",
       "      <td>2021-03-17T10:11:56.303</td>\n",
       "      <td>JRF20210317-101143-438060</td>\n",
       "      <td>JRF20210317-101156-223838</td>\n",
       "    </tr>\n",
       "    <tr>\n",
       "      <th>2200758631</th>\n",
       "      <td>SELL</td>\n",
       "      <td>6010900.0</td>\n",
       "      <td>0.09070</td>\n",
       "      <td>2021-03-17T10:11:56.837</td>\n",
       "      <td>JRF20210317-101155-100706</td>\n",
       "      <td>JRF20210317-101156-210108</td>\n",
       "    </tr>\n",
       "    <tr>\n",
       "      <th>2200758633</th>\n",
       "      <td>BUY</td>\n",
       "      <td>6014125.0</td>\n",
       "      <td>0.04000</td>\n",
       "      <td>2021-03-17T10:11:57.1</td>\n",
       "      <td>JRF20210317-101156-119189</td>\n",
       "      <td>JRF20210317-101156-219550</td>\n",
       "    </tr>\n",
       "  </tbody>\n",
       "</table>\n",
       "</div>"
      ],
      "text/plain": [
       "            side      price     size                exec_date  \\\n",
       "id                                                              \n",
       "2200758628  SELL  6014126.0  0.01275  2021-03-17T10:11:55.597   \n",
       "2200758629  SELL  6013227.0  0.01000  2021-03-17T10:11:55.957   \n",
       "2200758630  SELL  6013000.0  0.03000  2021-03-17T10:11:56.303   \n",
       "2200758631  SELL  6010900.0  0.09070  2021-03-17T10:11:56.837   \n",
       "2200758633   BUY  6014125.0  0.04000    2021-03-17T10:11:57.1   \n",
       "\n",
       "           buy_child_order_acceptance_id sell_child_order_acceptance_id  \n",
       "id                                                                       \n",
       "2200758628     JRF20210317-101151-203581      JRF20210317-101155-223836  \n",
       "2200758629     JRF20210317-101141-464303      JRF20210317-101155-100707  \n",
       "2200758630     JRF20210317-101143-438060      JRF20210317-101156-223838  \n",
       "2200758631     JRF20210317-101155-100706      JRF20210317-101156-210108  \n",
       "2200758633     JRF20210317-101156-119189      JRF20210317-101156-219550  "
      ]
     },
     "execution_count": 10,
     "metadata": {},
     "output_type": "execute_result"
    }
   ],
   "source": [
    "df_exec.head()"
   ]
  },
  {
   "cell_type": "code",
   "execution_count": 61,
   "metadata": {},
   "outputs": [],
   "source": [
    "before = 0\n",
    "\n",
    "params = {\n",
    "        'product_code': symbol,\n",
    "        'market': market,\n",
    "        'count': 500,\n",
    "        'before': before,\n",
    "    }"
   ]
  },
  {
   "cell_type": "markdown",
   "metadata": {},
   "source": [
    "## 板データ収集\n",
    "過去の板データを分析したい"
   ]
  },
  {
   "cell_type": "code",
   "execution_count": null,
   "metadata": {},
   "outputs": [],
   "source": []
  }
 ],
 "metadata": {
  "kernelspec": {
   "display_name": "Python 3",
   "language": "python",
   "name": "python3"
  },
  "language_info": {
   "codemirror_mode": {
    "name": "ipython",
    "version": 3
   },
   "file_extension": ".py",
   "mimetype": "text/x-python",
   "name": "python",
   "nbconvert_exporter": "python",
   "pygments_lexer": "ipython3",
   "version": "3.8.5"
  }
 },
 "nbformat": 4,
 "nbformat_minor": 4
}
