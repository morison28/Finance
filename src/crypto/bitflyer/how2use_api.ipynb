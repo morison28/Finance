{
 "cells": [
  {
   "cell_type": "markdown",
   "metadata": {},
   "source": [
    "- bitflyerのAPI設定\n",
    "- ティッカーとか板情報の取得"
   ]
  },
  {
   "cell_type": "code",
   "execution_count": 5,
   "metadata": {},
   "outputs": [],
   "source": [
    "import configparser\n",
    "import time\n",
    "\n",
    "import ccxt\n",
    "from tqdm import tqdm"
   ]
  },
  {
   "cell_type": "code",
   "execution_count": 2,
   "metadata": {},
   "outputs": [],
   "source": [
    "# API\n",
    "\n",
    "conf = configparser.ConfigParser()\n",
    "conf.read('../../../data/bot/settings.ini')\n",
    "\n",
    "api_key = conf['bitflyer']['api_key']\n",
    "api_secret = conf['bitflyer']['api_secret']\n",
    "\n",
    "# CCXT\n",
    "bitflyer = ccxt.bitflyer()\n",
    "\n",
    "bitflyer.apiKey = api_key\n",
    "bitflyer.secret = api_secret"
   ]
  },
  {
   "cell_type": "code",
   "execution_count": 8,
   "metadata": {},
   "outputs": [],
   "source": [
    "# 5分で300回以上リクエストを送るとエラー\n",
    "# https://lightning.bitflyer.com/docs?lang=ja#http-private-api"
   ]
  },
  {
   "cell_type": "code",
   "execution_count": 5,
   "metadata": {},
   "outputs": [],
   "source": [
    "# 口座残高の確認\n",
    "\n",
    "# bitflyer.private_get_getbalance()"
   ]
  },
  {
   "cell_type": "code",
   "execution_count": 3,
   "metadata": {},
   "outputs": [],
   "source": [
    "params = {\n",
    "    'product_code': 'BTC_JPY'\n",
    "}"
   ]
  },
  {
   "cell_type": "code",
   "execution_count": 9,
   "metadata": {},
   "outputs": [
    {
     "data": {
      "text/plain": [
       "{'product_code': 'BTC_JPY',\n",
       " 'state': 'RUNNING',\n",
       " 'timestamp': '2021-03-17T06:07:29.63',\n",
       " 'tick_id': 38123732,\n",
       " 'best_bid': 6113801.0,\n",
       " 'best_ask': 6115942.0,\n",
       " 'best_bid_size': 0.08793756,\n",
       " 'best_ask_size': 0.1226,\n",
       " 'total_bid_depth': 768.27362435,\n",
       " 'total_ask_depth': 644.30390324,\n",
       " 'market_bid_size': 0.0,\n",
       " 'market_ask_size': 0.0,\n",
       " 'ltp': 6113801.0,\n",
       " 'volume': 21983.9506305,\n",
       " 'volume_by_product': 7222.94703904}"
      ]
     },
     "execution_count": 9,
     "metadata": {},
     "output_type": "execute_result"
    }
   ],
   "source": [
    "# ティッカー\n",
    "\n",
    "## depthは注文総数\n",
    "\n",
    "bitflyer.public_get_getticker(params=params)"
   ]
  },
  {
   "cell_type": "code",
   "execution_count": 11,
   "metadata": {},
   "outputs": [],
   "source": [
    "# 板\n",
    "\n",
    "# bitflyer.public_get_getboard(params)"
   ]
  },
  {
   "cell_type": "code",
   "execution_count": 13,
   "metadata": {},
   "outputs": [],
   "source": [
    "# 約定データの蓄積\n"
   ]
  },
  {
   "cell_type": "code",
   "execution_count": 14,
   "metadata": {},
   "outputs": [],
   "source": [
    "# 板情報の蓄積\n"
   ]
  },
  {
   "cell_type": "code",
   "execution_count": null,
   "metadata": {},
   "outputs": [],
   "source": []
  }
 ],
 "metadata": {
  "kernelspec": {
   "display_name": "Python 3",
   "language": "python",
   "name": "python3"
  },
  "language_info": {
   "codemirror_mode": {
    "name": "ipython",
    "version": 3
   },
   "file_extension": ".py",
   "mimetype": "text/x-python",
   "name": "python",
   "nbconvert_exporter": "python",
   "pygments_lexer": "ipython3",
   "version": "3.8.5"
  }
 },
 "nbformat": 4,
 "nbformat_minor": 4
}
