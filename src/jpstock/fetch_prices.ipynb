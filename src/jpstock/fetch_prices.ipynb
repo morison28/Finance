{
 "cells": [
  {
   "cell_type": "markdown",
   "metadata": {},
   "source": [
    "- 日本株のデータを観察\n",
    "- Yahoo Finance APIから株価データを取得"
   ]
  },
  {
   "cell_type": "code",
   "execution_count": 1,
   "metadata": {},
   "outputs": [],
   "source": [
    "import matplotlib.pyplot as plt\n",
    "import pandas as pd\n",
    "import pandas_datareader.data as web\n",
    "import pickle\n",
    "import time\n",
    "from tqdm import tqdm\n",
    "\n",
    "%matplotlib inline"
   ]
  },
  {
   "cell_type": "markdown",
   "metadata": {},
   "source": [
    "## 上場銘柄一覧のデータ"
   ]
  },
  {
   "cell_type": "code",
   "execution_count": 2,
   "metadata": {},
   "outputs": [
    {
     "name": "stdout",
     "output_type": "stream",
     "text": [
      "(4086, 10)\n"
     ]
    },
    {
     "data": {
      "text/html": [
       "<div>\n",
       "<style scoped>\n",
       "    .dataframe tbody tr th:only-of-type {\n",
       "        vertical-align: middle;\n",
       "    }\n",
       "\n",
       "    .dataframe tbody tr th {\n",
       "        vertical-align: top;\n",
       "    }\n",
       "\n",
       "    .dataframe thead th {\n",
       "        text-align: right;\n",
       "    }\n",
       "</style>\n",
       "<table border=\"1\" class=\"dataframe\">\n",
       "  <thead>\n",
       "    <tr style=\"text-align: right;\">\n",
       "      <th></th>\n",
       "      <th>日付</th>\n",
       "      <th>コード</th>\n",
       "      <th>銘柄名</th>\n",
       "      <th>市場・商品区分</th>\n",
       "      <th>33業種コード</th>\n",
       "      <th>33業種区分</th>\n",
       "      <th>17業種コード</th>\n",
       "      <th>17業種区分</th>\n",
       "      <th>規模コード</th>\n",
       "      <th>規模区分</th>\n",
       "    </tr>\n",
       "  </thead>\n",
       "  <tbody>\n",
       "    <tr>\n",
       "      <th>0</th>\n",
       "      <td>20210129</td>\n",
       "      <td>1301</td>\n",
       "      <td>極洋</td>\n",
       "      <td>市場第一部（内国株）</td>\n",
       "      <td>50</td>\n",
       "      <td>水産・農林業</td>\n",
       "      <td>1</td>\n",
       "      <td>食品</td>\n",
       "      <td>7</td>\n",
       "      <td>TOPIX Small 2</td>\n",
       "    </tr>\n",
       "    <tr>\n",
       "      <th>1</th>\n",
       "      <td>20210129</td>\n",
       "      <td>1305</td>\n",
       "      <td>ダイワ上場投信－トピックス</td>\n",
       "      <td>ETF・ETN</td>\n",
       "      <td>-</td>\n",
       "      <td>-</td>\n",
       "      <td>-</td>\n",
       "      <td>-</td>\n",
       "      <td>-</td>\n",
       "      <td>-</td>\n",
       "    </tr>\n",
       "    <tr>\n",
       "      <th>2</th>\n",
       "      <td>20210129</td>\n",
       "      <td>1306</td>\n",
       "      <td>ＮＥＸＴ　ＦＵＮＤＳ　ＴＯＰＩＸ連動型上場投信</td>\n",
       "      <td>ETF・ETN</td>\n",
       "      <td>-</td>\n",
       "      <td>-</td>\n",
       "      <td>-</td>\n",
       "      <td>-</td>\n",
       "      <td>-</td>\n",
       "      <td>-</td>\n",
       "    </tr>\n",
       "    <tr>\n",
       "      <th>3</th>\n",
       "      <td>20210129</td>\n",
       "      <td>1308</td>\n",
       "      <td>上場インデックスファンドＴＯＰＩＸ</td>\n",
       "      <td>ETF・ETN</td>\n",
       "      <td>-</td>\n",
       "      <td>-</td>\n",
       "      <td>-</td>\n",
       "      <td>-</td>\n",
       "      <td>-</td>\n",
       "      <td>-</td>\n",
       "    </tr>\n",
       "    <tr>\n",
       "      <th>4</th>\n",
       "      <td>20210129</td>\n",
       "      <td>1309</td>\n",
       "      <td>ＮＥＸＴ　ＦＵＮＤＳ　ＣｈｉｎａＡＭＣ・中国株式・上証５０連動型上場投信</td>\n",
       "      <td>ETF・ETN</td>\n",
       "      <td>-</td>\n",
       "      <td>-</td>\n",
       "      <td>-</td>\n",
       "      <td>-</td>\n",
       "      <td>-</td>\n",
       "      <td>-</td>\n",
       "    </tr>\n",
       "  </tbody>\n",
       "</table>\n",
       "</div>"
      ],
      "text/plain": [
       "         日付   コード                                   銘柄名     市場・商品区分 33業種コード  \\\n",
       "0  20210129  1301                                    極洋  市場第一部（内国株）      50   \n",
       "1  20210129  1305                         ダイワ上場投信－トピックス     ETF・ETN       -   \n",
       "2  20210129  1306               ＮＥＸＴ　ＦＵＮＤＳ　ＴＯＰＩＸ連動型上場投信     ETF・ETN       -   \n",
       "3  20210129  1308                     上場インデックスファンドＴＯＰＩＸ     ETF・ETN       -   \n",
       "4  20210129  1309  ＮＥＸＴ　ＦＵＮＤＳ　ＣｈｉｎａＡＭＣ・中国株式・上証５０連動型上場投信     ETF・ETN       -   \n",
       "\n",
       "   33業種区分 17業種コード 17業種区分 規模コード           規模区分  \n",
       "0  水産・農林業       1    食品      7  TOPIX Small 2  \n",
       "1       -       -      -     -              -  \n",
       "2       -       -      -     -              -  \n",
       "3       -       -      -     -              -  \n",
       "4       -       -      -     -              -  "
      ]
     },
     "execution_count": 2,
     "metadata": {},
     "output_type": "execute_result"
    }
   ],
   "source": [
    "# 東証証券取引所に上場している全銘柄の株価データを取得\n",
    "# 引用元: https://www.jpx.co.jp/markets/statistics-equities/misc/01.html\n",
    "\n",
    "data_j = pd.read_excel('../../data/jpstock/data_j.xls')\n",
    "print(data_j.shape)\n",
    "data_j.head()"
   ]
  },
  {
   "cell_type": "code",
   "execution_count": 3,
   "metadata": {},
   "outputs": [
    {
     "data": {
      "text/plain": [
       "日付          int64\n",
       "コード         int64\n",
       "銘柄名        object\n",
       "市場・商品区分    object\n",
       "33業種コード    object\n",
       "33業種区分     object\n",
       "17業種コード    object\n",
       "17業種区分     object\n",
       "規模コード      object\n",
       "規模区分       object\n",
       "dtype: object"
      ]
     },
     "execution_count": 3,
     "metadata": {},
     "output_type": "execute_result"
    }
   ],
   "source": [
    "data_j.dtypes"
   ]
  },
  {
   "cell_type": "code",
   "execution_count": 4,
   "metadata": {},
   "outputs": [
    {
     "data": {
      "text/plain": [
       "日付            1\n",
       "コード        4086\n",
       "銘柄名        4085\n",
       "市場・商品区分      13\n",
       "33業種コード      34\n",
       "33業種区分       34\n",
       "17業種コード      18\n",
       "17業種区分       18\n",
       "規模コード         6\n",
       "規模区分          6\n",
       "dtype: int64"
      ]
     },
     "execution_count": 4,
     "metadata": {},
     "output_type": "execute_result"
    }
   ],
   "source": [
    "data_j.nunique()"
   ]
  },
  {
   "cell_type": "code",
   "execution_count": 5,
   "metadata": {},
   "outputs": [
    {
     "name": "stdout",
     "output_type": "stream",
     "text": [
      "['市場第一部（内国株）' 'ETF・ETN' 'JASDAQ(スタンダード・内国株）' 'JASDAQ(グロース・内国株）'\n",
      " 'マザーズ（内国株）' 'PRO Market' '市場第二部（内国株）' '市場第一部（外国株）'\n",
      " 'REIT・ベンチャーファンド・カントリーファンド・インフラファンド' 'JASDAQ(スタンダード・外国株）' 'マザーズ（外国株）'\n",
      " '出資証券' '市場第二部（外国株）']\n"
     ]
    }
   ],
   "source": [
    "# 市場区分\n",
    "print(data_j['市場・商品区分'].unique())"
   ]
  },
  {
   "cell_type": "code",
   "execution_count": 6,
   "metadata": {},
   "outputs": [
    {
     "data": {
      "text/html": [
       "<div>\n",
       "<style scoped>\n",
       "    .dataframe tbody tr th:only-of-type {\n",
       "        vertical-align: middle;\n",
       "    }\n",
       "\n",
       "    .dataframe tbody tr th {\n",
       "        vertical-align: top;\n",
       "    }\n",
       "\n",
       "    .dataframe thead th {\n",
       "        text-align: right;\n",
       "    }\n",
       "</style>\n",
       "<table border=\"1\" class=\"dataframe\">\n",
       "  <thead>\n",
       "    <tr style=\"text-align: right;\">\n",
       "      <th></th>\n",
       "      <th>銘柄数</th>\n",
       "    </tr>\n",
       "    <tr>\n",
       "      <th>市場・商品区分</th>\n",
       "      <th></th>\n",
       "    </tr>\n",
       "  </thead>\n",
       "  <tbody>\n",
       "    <tr>\n",
       "      <th>市場第一部（内国株）</th>\n",
       "      <td>2191</td>\n",
       "    </tr>\n",
       "    <tr>\n",
       "      <th>JASDAQ(スタンダード・内国株）</th>\n",
       "      <td>665</td>\n",
       "    </tr>\n",
       "    <tr>\n",
       "      <th>市場第二部（内国株）</th>\n",
       "      <td>473</td>\n",
       "    </tr>\n",
       "    <tr>\n",
       "      <th>マザーズ（内国株）</th>\n",
       "      <td>343</td>\n",
       "    </tr>\n",
       "    <tr>\n",
       "      <th>ETF・ETN</th>\n",
       "      <td>261</td>\n",
       "    </tr>\n",
       "    <tr>\n",
       "      <th>REIT・ベンチャーファンド・カントリーファンド・インフラファンド</th>\n",
       "      <td>69</td>\n",
       "    </tr>\n",
       "    <tr>\n",
       "      <th>PRO Market</th>\n",
       "      <td>41</td>\n",
       "    </tr>\n",
       "    <tr>\n",
       "      <th>JASDAQ(グロース・内国株）</th>\n",
       "      <td>37</td>\n",
       "    </tr>\n",
       "    <tr>\n",
       "      <th>出資証券</th>\n",
       "      <td>2</td>\n",
       "    </tr>\n",
       "    <tr>\n",
       "      <th>JASDAQ(スタンダード・外国株）</th>\n",
       "      <td>1</td>\n",
       "    </tr>\n",
       "    <tr>\n",
       "      <th>マザーズ（外国株）</th>\n",
       "      <td>1</td>\n",
       "    </tr>\n",
       "    <tr>\n",
       "      <th>市場第一部（外国株）</th>\n",
       "      <td>1</td>\n",
       "    </tr>\n",
       "    <tr>\n",
       "      <th>市場第二部（外国株）</th>\n",
       "      <td>1</td>\n",
       "    </tr>\n",
       "  </tbody>\n",
       "</table>\n",
       "</div>"
      ],
      "text/plain": [
       "                                    銘柄数\n",
       "市場・商品区分                                \n",
       "市場第一部（内国株）                         2191\n",
       "JASDAQ(スタンダード・内国株）                  665\n",
       "市場第二部（内国株）                          473\n",
       "マザーズ（内国株）                           343\n",
       "ETF・ETN                             261\n",
       "REIT・ベンチャーファンド・カントリーファンド・インフラファンド    69\n",
       "PRO Market                           41\n",
       "JASDAQ(グロース・内国株）                     37\n",
       "出資証券                                  2\n",
       "JASDAQ(スタンダード・外国株）                    1\n",
       "マザーズ（外国株）                             1\n",
       "市場第一部（外国株）                            1\n",
       "市場第二部（外国株）                            1"
      ]
     },
     "execution_count": 6,
     "metadata": {},
     "output_type": "execute_result"
    }
   ],
   "source": [
    "# 市場･商品区分に属する銘柄の数\n",
    "data = data_j.groupby(['市場・商品区分']).agg(['count'])['コード']\n",
    "data.columns = ['銘柄数']\n",
    "data = data.sort_values('銘柄数', ascending=False)\n",
    "data"
   ]
  },
  {
   "cell_type": "code",
   "execution_count": null,
   "metadata": {},
   "outputs": [],
   "source": [
    "# matplotlibと戯れる"
   ]
  },
  {
   "cell_type": "code",
   "execution_count": 7,
   "metadata": {},
   "outputs": [
    {
     "data": {
      "image/png": "[encoded data removed]",
      "text/plain": [
       "<Figure size 720x360 with 1 Axes>"
      ]
     },
     "metadata": {},
     "output_type": "display_data"
    }
   ],
   "source": [
    "fig = plt.figure(figsize=(10,5))\n",
    "fig.patch.set_facecolor('white')\n",
    "plt.pie(data['銘柄数'],\n",
    "        #labels=data.index,\n",
    "        counterclock=False,\n",
    "        startangle=90,\n",
    "        autopct=\"%1.1f%%\",\n",
    "        pctdistance=.7,\n",
    "       )\n",
    "plt.legend(data.index,\n",
    "           #loc = 'lower right',\n",
    "           fontsize=8,\n",
    "           bbox_to_anchor=(0.9, 0.7),\n",
    "          )\n",
    "plt.title('東証上場銘柄4086銘柄')\n",
    "plt.show()"
   ]
  },
  {
   "cell_type": "code",
   "execution_count": 8,
   "metadata": {},
   "outputs": [
    {
     "data": {
      "image/png": "[encoded data removed]",
      "text/plain": [
       "<Figure size 1080x216 with 1 Axes>"
      ]
     },
     "metadata": {
      "needs_background": "light"
     },
     "output_type": "display_data"
    }
   ],
   "source": [
    "# 各業種に属する銘柄数(17業種区分)\n",
    "data = data_j.groupby(['17業種区分']).agg(['count'])['コード']\n",
    "data.columns = ['銘柄数']\n",
    "# data\n",
    "# 描画\n",
    "data = data.sort_values('銘柄数', ascending=False)\n",
    "plt.figure(figsize=(15,3))\n",
    "plt.bar(data.index, data['銘柄数'])\n",
    "plt.xticks(rotation=60)\n",
    "plt.grid()\n",
    "plt.show()"
   ]
  },
  {
   "cell_type": "code",
   "execution_count": 9,
   "metadata": {},
   "outputs": [
    {
     "data": {
      "image/png": "[encoded data removed]",
      "text/plain": [
       "<Figure size 1080x216 with 1 Axes>"
      ]
     },
     "metadata": {
      "needs_background": "light"
     },
     "output_type": "display_data"
    }
   ],
   "source": [
    "# 各業種に属する銘柄数(33業種区分)\n",
    "data = data_j.groupby(['33業種区分']).agg(['count'])['コード']\n",
    "data.columns = ['銘柄数']\n",
    "# data\n",
    "\n",
    "# 描画\n",
    "data = data.sort_values('銘柄数', ascending=False)\n",
    "plt.figure(figsize=(15,3))\n",
    "plt.bar(data.index, data['銘柄数'])\n",
    "plt.xticks(rotation=60)\n",
    "plt.grid()\n",
    "plt.title('33業種区分に所属する銘柄数')\n",
    "plt.show()"
   ]
  },
  {
   "cell_type": "markdown",
   "metadata": {},
   "source": [
    "## Yahoo Financeから日次株価データをとってくる "
   ]
  },
  {
   "cell_type": "code",
   "execution_count": 10,
   "metadata": {},
   "outputs": [
    {
     "data": {
      "text/plain": [
       "4086"
      ]
     },
     "execution_count": 10,
     "metadata": {},
     "output_type": "execute_result"
    }
   ],
   "source": [
    "codes = list(data_j['コード'])\n",
    "codes = list(map(lambda x: str(x)+'.T', codes))\n",
    "len(codes)"
   ]
  },
  {
   "cell_type": "code",
   "execution_count": 11,
   "metadata": {},
   "outputs": [
    {
     "name": "stderr",
     "output_type": "stream",
     "text": [
      "100%|██████████| 4086/4086 [3:02:23<00:00,  2.68s/it]  \n"
     ]
    }
   ],
   "source": [
    "\n",
    "\n",
    "start = '2013-01-01'\n",
    "end = '2021-03-01'\n",
    "\n",
    "ochlv_dict = {}\n",
    "for code in tqdm(codes[:]):\n",
    "    try:\n",
    "        ochlv_dict[int(code[:4])] = web.DataReader(code, \"yahoo\", start, end)\n",
    "        #time.sleep(1)\n",
    "    except:\n",
    "        continue\n",
    "\n",
    "# 保存\n",
    "with open('../../data/jpstock/ochlv_jpstock_all_20130101-20210301.pickle', 'wb') as fp:\n",
    "    pickle.dump(ochlv_dict, fp)"
   ]
  },
  {
   "cell_type": "code",
   "execution_count": 13,
   "metadata": {},
   "outputs": [
    {
     "data": {
      "text/plain": [
       "4061"
      ]
     },
     "execution_count": 13,
     "metadata": {},
     "output_type": "execute_result"
    }
   ],
   "source": [
    "len(ochlv_dict.keys())"
   ]
  },
  {
   "cell_type": "markdown",
   "metadata": {},
   "source": [
    "## リターンデータの調査"
   ]
  },
  {
   "cell_type": "markdown",
   "metadata": {},
   "source": [
    "- 年間上昇率ランキングとか作ってみる\n",
    "- テクニカルとかファンダメンタルズとか合わせて分析出来たらおもろいと思う\n",
    "- 特にファンダ\n",
    "- 有報の自然言語処理とかにも興味がある今日この頃"
   ]
  },
  {
   "cell_type": "code",
   "execution_count": 15,
   "metadata": {},
   "outputs": [],
   "source": [
    "# 東証上場銘柄の基礎情報\n",
    "data_j = pd.read_excel('../../data/jpstock/data_j.xls')\n",
    "\n",
    "# 東証全銘柄の価格データ\n",
    "ochlv_dict = pd.read_pickle('../../data/jpstock/ochlv_jpstock_all_20130101-20210301.pickle')"
   ]
  },
  {
   "cell_type": "code",
   "execution_count": 16,
   "metadata": {},
   "outputs": [],
   "source": [
    "markets = [\n",
    "    '市場第一部（内国株）',\n",
    "    'JASDAQ(スタンダード・内国株）',\n",
    "    '市場第二部（内国株）',\n",
    "    'マザーズ（内国株）', \n",
    "    'JASDAQ(グロース・内国株）',\n",
    "    #'ETF・ETN ',\n",
    "    #'REIT・ベンチャーファンド・カントリーファンド・インフラファンド',\n",
    "    #'PRO Market',\n",
    "    #'出資証券',\n",
    "    #'JASDAQ(スタンダード・外国株）',\n",
    "    #'マザーズ（外国株）',\n",
    "    #'市場第一部（外国株）',\n",
    "    #'市場第二部（外国株）',\n",
    "]"
   ]
  },
  {
   "cell_type": "code",
   "execution_count": 17,
   "metadata": {},
   "outputs": [
    {
     "name": "stderr",
     "output_type": "stream",
     "text": [
      "100%|██████████| 5/5 [01:50<00:00, 22.16s/it]\n"
     ]
    }
   ],
   "source": [
    "# key: 2016〜2020 (int)\n",
    "# value: 各銘柄の上昇率などの辞書\n",
    "\n",
    "years = ['2016', '2017', '2018', '2019', '2020']\n",
    "change_rate_dict = {}\n",
    "for y in tqdm(years[:]):\n",
    "    each_year_dict = {}\n",
    "    for k,v in ochlv_dict.items():\n",
    "        try:\n",
    "            # 高値を付けた日は安値を付けた日の後でなくてはならない\n",
    "            if not v[y]['High'].idxmax() > v[y]['Low'].idxmin():\n",
    "                continue\n",
    "            # TODO\n",
    "            # 終値以外分割調整に対応してない\n",
    "            # CloseとAdj Closeから分割調整比率を計算して，\n",
    "            # High, Low, Openを更新する必要があると思いました。\n",
    "            idx = data_j[data_j['コード']==k].index[0]\n",
    "            each_year_dict[k] = {\n",
    "                    'name': data_j[data_j['コード']==k]['銘柄名'][idx],\n",
    "                    'market': data_j[data_j['コード']==k]['市場・商品区分'][idx],\n",
    "                    '17group': data_j[data_j['コード']==k]['17業種区分'][idx],\n",
    "                    '33group': data_j[data_j['コード']==k]['33業種区分'][idx],\n",
    "                    'highest_price': v[y]['High'].max(),\n",
    "                    'lowest_price' : v[y]['Low'].min(),\n",
    "                    'highest_date' : v[y]['High'].idxmax(),\n",
    "                    'lowest_date'  : v[y]['Low'].idxmin(),\n",
    "                    'change_rate'  : v[y]['High'].max()/v[y]['Low'].min()-1,\n",
    "                }\n",
    "        except:\n",
    "            continue\n",
    "    change_rate_dict[int(y)] = each_year_dict"
   ]
  },
  {
   "cell_type": "code",
   "execution_count": 18,
   "metadata": {},
   "outputs": [],
   "source": [
    "# データフレームに変換\n",
    "# 上昇率を降順にソートして年間上勝率のランキングを作成\n",
    "df_dict = {}\n",
    "for y in years[:]:\n",
    "    df_dict[int(y)] = pd.DataFrame(\n",
    "        change_rate_dict[int(y)].values(),\n",
    "        index=change_rate_dict[int(y)].keys()).\\\n",
    "        sort_values('change_rate', ascending=False)"
   ]
  },
  {
   "cell_type": "code",
   "execution_count": 20,
   "metadata": {},
   "outputs": [],
   "source": [
    "y = 2020\n",
    "\n",
    "df = df_dict[y]\n",
    "df = pd.concat([ df.query(' market==@tm ') for tm in markets])\n",
    "# TODO:異常値の除外 .. 突然100倍になるデータがちらほら，↓は応急処置\n",
    "df = df[df['change_rate']<100].sort_values('change_rate', ascending=False)\n",
    "#print(df_2020.shape)"
   ]
  },
  {
   "cell_type": "code",
   "execution_count": 22,
   "metadata": {},
   "outputs": [
    {
     "data": {
      "text/html": [
       "<div>\n",
       "<style scoped>\n",
       "    .dataframe tbody tr th:only-of-type {\n",
       "        vertical-align: middle;\n",
       "    }\n",
       "\n",
       "    .dataframe tbody tr th {\n",
       "        vertical-align: top;\n",
       "    }\n",
       "\n",
       "    .dataframe thead th {\n",
       "        text-align: right;\n",
       "    }\n",
       "</style>\n",
       "<table border=\"1\" class=\"dataframe\">\n",
       "  <thead>\n",
       "    <tr style=\"text-align: right;\">\n",
       "      <th></th>\n",
       "      <th>name</th>\n",
       "      <th>market</th>\n",
       "      <th>17group</th>\n",
       "      <th>33group</th>\n",
       "      <th>highest_price</th>\n",
       "      <th>lowest_price</th>\n",
       "      <th>highest_date</th>\n",
       "      <th>lowest_date</th>\n",
       "      <th>change_rate</th>\n",
       "    </tr>\n",
       "  </thead>\n",
       "  <tbody>\n",
       "    <tr>\n",
       "      <th>2191</th>\n",
       "      <td>テラ</td>\n",
       "      <td>JASDAQ(スタンダード・内国株）</td>\n",
       "      <td>情報通信・サービスその他</td>\n",
       "      <td>サービス業</td>\n",
       "      <td>2175.0</td>\n",
       "      <td>92.00</td>\n",
       "      <td>2020-06-09</td>\n",
       "      <td>2020-03-13</td>\n",
       "      <td>22.641304</td>\n",
       "    </tr>\n",
       "    <tr>\n",
       "      <th>4477</th>\n",
       "      <td>ＢＡＳＥ</td>\n",
       "      <td>マザーズ（内国株）</td>\n",
       "      <td>情報通信・サービスその他</td>\n",
       "      <td>情報・通信業</td>\n",
       "      <td>17240.0</td>\n",
       "      <td>774.00</td>\n",
       "      <td>2020-10-08</td>\n",
       "      <td>2020-03-13</td>\n",
       "      <td>21.273902</td>\n",
       "    </tr>\n",
       "    <tr>\n",
       "      <th>5337</th>\n",
       "      <td>ダントーホールディングス</td>\n",
       "      <td>市場第一部（内国株）</td>\n",
       "      <td>建設・資材</td>\n",
       "      <td>ガラス・土石製品</td>\n",
       "      <td>1065.0</td>\n",
       "      <td>58.00</td>\n",
       "      <td>2020-10-07</td>\n",
       "      <td>2020-03-13</td>\n",
       "      <td>17.362069</td>\n",
       "    </tr>\n",
       "    <tr>\n",
       "      <th>5212</th>\n",
       "      <td>不二硝子</td>\n",
       "      <td>JASDAQ(スタンダード・内国株）</td>\n",
       "      <td>建設・資材</td>\n",
       "      <td>ガラス・土石製品</td>\n",
       "      <td>4100.0</td>\n",
       "      <td>330.00</td>\n",
       "      <td>2020-11-18</td>\n",
       "      <td>2020-03-13</td>\n",
       "      <td>11.424242</td>\n",
       "    </tr>\n",
       "    <tr>\n",
       "      <th>2150</th>\n",
       "      <td>ケアネット</td>\n",
       "      <td>マザーズ（内国株）</td>\n",
       "      <td>情報通信・サービスその他</td>\n",
       "      <td>サービス業</td>\n",
       "      <td>6420.0</td>\n",
       "      <td>537.00</td>\n",
       "      <td>2020-12-02</td>\n",
       "      <td>2020-03-19</td>\n",
       "      <td>10.955307</td>\n",
       "    </tr>\n",
       "    <tr>\n",
       "      <th>3683</th>\n",
       "      <td>サイバーリンクス</td>\n",
       "      <td>市場第一部（内国株）</td>\n",
       "      <td>情報通信・サービスその他</td>\n",
       "      <td>情報・通信業</td>\n",
       "      <td>3925.0</td>\n",
       "      <td>334.00</td>\n",
       "      <td>2020-12-02</td>\n",
       "      <td>2020-03-13</td>\n",
       "      <td>10.751497</td>\n",
       "    </tr>\n",
       "    <tr>\n",
       "      <th>8256</th>\n",
       "      <td>プロルート丸光</td>\n",
       "      <td>JASDAQ(スタンダード・内国株）</td>\n",
       "      <td>商社・卸売</td>\n",
       "      <td>卸売業</td>\n",
       "      <td>538.0</td>\n",
       "      <td>47.00</td>\n",
       "      <td>2020-06-09</td>\n",
       "      <td>2020-04-07</td>\n",
       "      <td>10.446809</td>\n",
       "    </tr>\n",
       "    <tr>\n",
       "      <th>6400</th>\n",
       "      <td>不二精機</td>\n",
       "      <td>JASDAQ(スタンダード・内国株）</td>\n",
       "      <td>機械</td>\n",
       "      <td>機械</td>\n",
       "      <td>1670.0</td>\n",
       "      <td>150.00</td>\n",
       "      <td>2020-12-14</td>\n",
       "      <td>2020-03-13</td>\n",
       "      <td>10.133333</td>\n",
       "    </tr>\n",
       "    <tr>\n",
       "      <th>3962</th>\n",
       "      <td>チェンジ</td>\n",
       "      <td>市場第一部（内国株）</td>\n",
       "      <td>情報通信・サービスその他</td>\n",
       "      <td>情報・通信業</td>\n",
       "      <td>6390.0</td>\n",
       "      <td>585.25</td>\n",
       "      <td>2020-09-28</td>\n",
       "      <td>2020-04-03</td>\n",
       "      <td>9.918411</td>\n",
       "    </tr>\n",
       "    <tr>\n",
       "      <th>4308</th>\n",
       "      <td>Ｊストリーム</td>\n",
       "      <td>マザーズ（内国株）</td>\n",
       "      <td>情報通信・サービスその他</td>\n",
       "      <td>情報・通信業</td>\n",
       "      <td>6840.0</td>\n",
       "      <td>638.00</td>\n",
       "      <td>2020-12-03</td>\n",
       "      <td>2020-03-13</td>\n",
       "      <td>9.721003</td>\n",
       "    </tr>\n",
       "  </tbody>\n",
       "</table>\n",
       "</div>"
      ],
      "text/plain": [
       "              name              market        17group   33group  \\\n",
       "2191            テラ  JASDAQ(スタンダード・内国株）  情報通信・サービスその他      サービス業   \n",
       "4477          ＢＡＳＥ           マザーズ（内国株）  情報通信・サービスその他     情報・通信業   \n",
       "5337  ダントーホールディングス          市場第一部（内国株）         建設・資材   ガラス・土石製品   \n",
       "5212          不二硝子  JASDAQ(スタンダード・内国株）         建設・資材   ガラス・土石製品   \n",
       "2150         ケアネット           マザーズ（内国株）  情報通信・サービスその他      サービス業   \n",
       "3683      サイバーリンクス          市場第一部（内国株）  情報通信・サービスその他     情報・通信業   \n",
       "8256       プロルート丸光  JASDAQ(スタンダード・内国株）         商社・卸売        卸売業   \n",
       "6400          不二精機  JASDAQ(スタンダード・内国株）            機械         機械   \n",
       "3962          チェンジ          市場第一部（内国株）  情報通信・サービスその他     情報・通信業   \n",
       "4308        Ｊストリーム           マザーズ（内国株）  情報通信・サービスその他     情報・通信業   \n",
       "\n",
       "      highest_price  lowest_price highest_date lowest_date  change_rate  \n",
       "2191         2175.0         92.00   2020-06-09  2020-03-13    22.641304  \n",
       "4477        17240.0        774.00   2020-10-08  2020-03-13    21.273902  \n",
       "5337         1065.0         58.00   2020-10-07  2020-03-13    17.362069  \n",
       "5212         4100.0        330.00   2020-11-18  2020-03-13    11.424242  \n",
       "2150         6420.0        537.00   2020-12-02  2020-03-19    10.955307  \n",
       "3683         3925.0        334.00   2020-12-02  2020-03-13    10.751497  \n",
       "8256          538.0         47.00   2020-06-09  2020-04-07    10.446809  \n",
       "6400         1670.0        150.00   2020-12-14  2020-03-13    10.133333  \n",
       "3962         6390.0        585.25   2020-09-28  2020-04-03     9.918411  \n",
       "4308         6840.0        638.00   2020-12-03  2020-03-13     9.721003  "
      ]
     },
     "execution_count": 22,
     "metadata": {},
     "output_type": "execute_result"
    }
   ],
   "source": [
    "# 確認\n",
    "# 年間上昇率TOP10\n",
    "# 他のサイトのデータとも一致してた！\n",
    "\n",
    "df.head(10)"
   ]
  },
  {
   "cell_type": "code",
   "execution_count": null,
   "metadata": {},
   "outputs": [],
   "source": []
  }
 ],
 "metadata": {
  "kernelspec": {
   "display_name": "Python 3",
   "language": "python",
   "name": "python3"
  },
  "language_info": {
   "codemirror_mode": {
    "name": "ipython",
    "version": 3
   },
   "file_extension": ".py",
   "mimetype": "text/x-python",
   "name": "python",
   "nbconvert_exporter": "python",
   "pygments_lexer": "ipython3",
   "version": "3.8.5"
  }
 },
 "nbformat": 4,
 "nbformat_minor": 4
}
