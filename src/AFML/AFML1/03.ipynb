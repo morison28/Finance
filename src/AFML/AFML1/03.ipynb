{
 "cells": [
  {
   "cell_type": "markdown",
   "metadata": {},
   "source": [
    "# ラベリング"
   ]
  },
  {
   "cell_type": "code",
   "execution_count": 6,
   "metadata": {},
   "outputs": [],
   "source": [
    "# 不均衡データの扱いで困ることになりそうな予感\n",
    "# https://qiita.com/r-takahama/items/631a59953fc20ceaf5d9"
   ]
  },
  {
   "cell_type": "markdown",
   "metadata": {},
   "source": [
    "## 固定時間ホライズン法"
   ]
  },
  {
   "cell_type": "markdown",
   "metadata": {},
   "source": [
    "デメリット\n",
    "- タイムバーはより統計的性質を示さない\n",
    "- 観測されたボラティリティに関係なく，同じ閾値が適応される\n",
    "\n",
    "タイムバーに従って，固定された閾値によって観測値にラベルづけすることは誤りだとも言える"
   ]
  },
  {
   "cell_type": "markdown",
   "metadata": {},
   "source": [
    "解決策\n",
    "1. ローリング指数加重標準偏差を用いて計算した可変閾値によりラベル付け\n",
    "2. ボラティリティが一定に近くなる，出来高バーまたはドルバーを使用する"
   ]
  },
  {
   "cell_type": "markdown",
   "metadata": {},
   "source": [
    "## 動的閾値の計算\n",
    "ボラティリティに比して動的に閾値を設定"
   ]
  },
  {
   "cell_type": "code",
   "execution_count": null,
   "metadata": {},
   "outputs": [],
   "source": []
  },
  {
   "cell_type": "markdown",
   "metadata": {},
   "source": [
    "## トリプルバリア法"
   ]
  },
  {
   "cell_type": "code",
   "execution_count": null,
   "metadata": {},
   "outputs": [],
   "source": []
  },
  {
   "cell_type": "markdown",
   "metadata": {},
   "source": [
    "## サイドとサイズの学習"
   ]
  },
  {
   "cell_type": "code",
   "execution_count": null,
   "metadata": {},
   "outputs": [],
   "source": []
  },
  {
   "cell_type": "markdown",
   "metadata": {},
   "source": [
    "## メタラベリング"
   ]
  },
  {
   "cell_type": "code",
   "execution_count": null,
   "metadata": {},
   "outputs": [],
   "source": []
  },
  {
   "cell_type": "markdown",
   "metadata": {},
   "source": [
    "## 不要なラベルの削除"
   ]
  },
  {
   "cell_type": "code",
   "execution_count": null,
   "metadata": {},
   "outputs": [],
   "source": []
  }
 ],
 "metadata": {
  "kernelspec": {
   "display_name": "Python 3",
   "language": "python",
   "name": "python3"
  },
  "language_info": {
   "codemirror_mode": {
    "name": "ipython",
    "version": 3
   },
   "file_extension": ".py",
   "mimetype": "text/x-python",
   "name": "python",
   "nbconvert_exporter": "python",
   "pygments_lexer": "ipython3",
   "version": "3.8.5"
  }
 },
 "nbformat": 4,
 "nbformat_minor": 4
}
