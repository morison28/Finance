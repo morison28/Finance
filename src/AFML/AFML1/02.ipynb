{
 "cells": [
  {
   "cell_type": "markdown",
   "metadata": {},
   "source": [
    "# 2. 金融データの構造"
   ]
  },
  {
   "cell_type": "markdown",
   "metadata": {},
   "source": [
    "## 金融データの基本形式"
   ]
  },
  {
   "cell_type": "markdown",
   "metadata": {},
   "source": [
    "- ファインダメンタルデータ\n",
    "- 市場データ\n",
    "- アナリティクス(分析済みデータ)\n",
    "- オルタナティブデータ"
   ]
  },
  {
   "cell_type": "markdown",
   "metadata": {},
   "source": [
    "## バー(Bar)"
   ]
  },
  {
   "cell_type": "markdown",
   "metadata": {},
   "source": [
    "　OHLCV(標準バー)を使うことが一般的であるが，統計的性質が悪いという欠点がある．    \n",
    "　標準バーの代替として，ティックバー，ボリュームバー(出来高バー)，ドルバー(売買高バー)の採用が推奨されている．    \n",
    "　特にドルバーが推奨されており，統計的性質が改善される．(IID正規分布に近くなる．)    \n",
    "　売買高ベースでバーを作成した場合，株式分割等のコーポレートアクションの影響を受けにくく経年を通してロバストになる．"
   ]
  },
  {
   "cell_type": "markdown",
   "metadata": {},
   "source": [
    "　IID系列は，各時点のデータが独立で同一の分布に従う系列であり，\n",
    "定常過程(強定常)の代表的な系列である．時系列分析における定常過程とは\n",
    "分布が時間依存しない過程であり，予測問題を扱う上で定常過程であることは必須\n",
    "(時間変化するのであれば予測問題として意味をなさない)．一般的な株価の動きは\n",
    "非定常(単位根過程，ランダムウォーク)であるが，その階差系列は概ね(弱定常)とみなして分析を行う．"
   ]
  },
  {
   "cell_type": "code",
   "execution_count": 6,
   "metadata": {},
   "outputs": [],
   "source": [
    "# TODO\n",
    "# ↑ 定常過程って独立だっけ？"
   ]
  },
  {
   "cell_type": "markdown",
   "metadata": {},
   "source": [
    "### タイムバー\n",
    "タイムスタンプ / 始値(寄り付き)価格 / 終値(大引け)価格 / 高値 / 安値 / 出来高 を記録    \n",
    "　市場は一定時間間隔で情報を処理するわけではないので，タイムバーを用いることが適していないこともある．取引が活発でないときには過剰にサンプリングし，活発な時間では過少にサンプリングされた系列は，統計的な性質が好ましくないものもある．"
   ]
  },
  {
   "cell_type": "code",
   "execution_count": 2,
   "metadata": {},
   "outputs": [],
   "source": [
    "### ティックバー(取引毎のバー)"
   ]
  },
  {
   "cell_type": "code",
   "execution_count": 3,
   "metadata": {},
   "outputs": [],
   "source": [
    "### ボリュームバー(出来高バー)"
   ]
  },
  {
   "cell_type": "code",
   "execution_count": 4,
   "metadata": {},
   "outputs": [],
   "source": [
    "### ドルバー"
   ]
  },
  {
   "cell_type": "code",
   "execution_count": null,
   "metadata": {},
   "outputs": [],
   "source": []
  }
 ],
 "metadata": {
  "kernelspec": {
   "display_name": "Python 3",
   "language": "python",
   "name": "python3"
  },
  "language_info": {
   "codemirror_mode": {
    "name": "ipython",
    "version": 3
   },
   "file_extension": ".py",
   "mimetype": "text/x-python",
   "name": "python",
   "nbconvert_exporter": "python",
   "pygments_lexer": "ipython3",
   "version": "3.8.5"
  }
 },
 "nbformat": 4,
 "nbformat_minor": 4
}
