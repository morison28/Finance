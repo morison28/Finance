{
 "cells": [
  {
   "cell_type": "markdown",
   "metadata": {},
   "source": [
    "# 第5章:分数次差分を取った特徴量"
   ]
  },
  {
   "cell_type": "code",
   "execution_count": null,
   "metadata": {},
   "outputs": [],
   "source": []
  },
  {
   "cell_type": "markdown",
   "metadata": {},
   "source": [
    "【目標】    \n",
    "可能な限り多くのメモリーを保持しつつ，データを定常的なものにする変換"
   ]
  },
  {
   "cell_type": "code",
   "execution_count": null,
   "metadata": {},
   "outputs": [],
   "source": []
  },
  {
   "cell_type": "markdown",
   "metadata": {},
   "source": [
    "裁定取引の影響によって，金融時系列データは低いシグナルノイズ比を示すことが知られている．\n",
    "加えて，整数次差分のように，データを定常時系列に変換するための標準的な手法は，\n",
    "メモリ−(時系列の平均値を時間経過に従ってシフトさせる過去の水準の長期履歴)を取り除くことでさらにシグナルを弱めてしまうことになる．\n",
    "価格データは過去の長期間の水準の履歴に依存しており，価格時系列の値はメモリーを持っている．    \n",
    "　整数次差分を取ることで定常には出来るが，元の時系列のメモリーを全て失う羽目になる．定常性は推論のために必要な性質ではあるが，メモリーはモデルの予測力の基礎となるものであり，例えば信号処理であればメモリーを全て無視することはありえない．"
   ]
  },
  {
   "cell_type": "code",
   "execution_count": null,
   "metadata": {},
   "outputs": [],
   "source": []
  },
  {
   "cell_type": "markdown",
   "metadata": {},
   "source": [
    "通常，教師あり学習のアルゴリズムには定常的な特量量が必要である．\n",
    "その理由は，これまでに見たことがない(つまり，ラベル付けされていない)観測値を事前にラベル付けされた学習データへの集合へと\n",
    "マッピングすることで，新しい観測値のラベルを推論するためである．\n",
    "もし，特徴量が定常でなければ，新しい観測値をたくさんの既知の学習データへとマッピングすることができない．"
   ]
  },
  {
   "cell_type": "code",
   "execution_count": null,
   "metadata": {},
   "outputs": [],
   "source": []
  },
  {
   "cell_type": "markdown",
   "metadata": {},
   "source": [
    "しかし，定常性は予測力を保証しない．\n",
    "定常性は機械学習アルゴリズムが高いパフォーマンスを上げることの必要条件であるが，十分条件ではない．"
   ]
  },
  {
   "cell_type": "code",
   "execution_count": null,
   "metadata": {},
   "outputs": [],
   "source": []
  }
 ],
 "metadata": {
  "kernelspec": {
   "display_name": "Python 3",
   "language": "python",
   "name": "python3"
  },
  "language_info": {
   "codemirror_mode": {
    "name": "ipython",
    "version": 3
   },
   "file_extension": ".py",
   "mimetype": "text/x-python",
   "name": "python",
   "nbconvert_exporter": "python",
   "pygments_lexer": "ipython3",
   "version": "3.8.5"
  }
 },
 "nbformat": 4,
 "nbformat_minor": 4
}
